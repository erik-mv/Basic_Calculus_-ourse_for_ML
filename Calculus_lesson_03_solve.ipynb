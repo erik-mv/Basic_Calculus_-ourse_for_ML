{
 "cells": [
  {
   "cell_type": "markdown",
   "metadata": {
    "colab_type": "text",
    "id": "zz7SDkPIkVlM"
   },
   "source": [
    "# Урок 3"
   ]
  },
  {
   "cell_type": "markdown",
   "metadata": {
    "colab_type": "text",
    "id": "p_3vqG5-kVlP"
   },
   "source": [
    "# Разбор домашнего задания"
   ]
  },
  {
   "cell_type": "markdown",
   "metadata": {
    "colab_type": "text",
    "id": "SmdURZ_OkVqQ"
   },
   "source": [
    "__1.__ Найти предел последовательности:\n",
    "\n",
    "### $$а)\\,\\,\\,\\,\\lim_{n\\to \\infty} \\frac{(23-2n^2)(3n^2+17)^2}{4n^6+n-1}$$\n",
    "\n",
    "Решение:\n",
    "\n",
    "### $$\\lim_{n\\to \\infty} \\frac{(23-2n^2)(3n^2+17)^2}{4n^6+n-1}=\\Bigl(\\frac{\\infty}{\\infty}\\Bigr)=$$   \n",
    "\n",
    "### $$=\\frac{-2\\cdot3^2}{4}=-\\frac{9}{2}$$ "
   ]
  },
  {
   "cell_type": "markdown",
   "metadata": {},
   "source": [
    "### $$б)\\,\\,\\,\\,\\lim_{n\\to \\infty} \\frac{(97-2n)^3}{2n(3n^2+15)+8n}$$\n",
    "\n",
    "Решение:\n",
    "\n",
    "### $$\\lim_{n\\to \\infty} \\frac{(97-2n)^3}{2n(3n^2+15)+8n}=\\Bigl(\\frac{\\infty}{\\infty}\\Bigr)=$$   \n",
    "\n",
    "### $$=\\frac{(-2)^3}{2\\cdot3}=-\\frac{4}{3}$$ \n"
   ]
  },
  {
   "cell_type": "markdown",
   "metadata": {},
   "source": [
    "### $$в)\\,\\,\\,\\,\\lim_{n\\to \\infty} \\frac{2n^3+13n(n+18)}{(27-n)(2n+19)^2}$$\n",
    "\n",
    "Решение:\n",
    "\n",
    "### $$\\lim_{n\\to \\infty} \\frac{2n^3+13n(n+18)}{(27-n)(2n+19)^2}=\\Bigl(\\frac{\\infty}{\\infty}\\Bigr)=$$   \n",
    "\n",
    "### $$=\\frac{2}{-1\\cdot2^2}=-\\frac{1}{2}$$ "
   ]
  },
  {
   "cell_type": "markdown",
   "metadata": {},
   "source": [
    "### $$г)\\,\\,\\,\\,\\lim_{n\\to \\infty} (\\sqrt{n^2+1}-n)$$\n",
    "\n",
    "Решение:\n",
    "\n",
    "### $$\\lim_{n\\to \\infty} (\\sqrt{n^2+1}-n)=\\Bigl(\\infty-\\infty\\Bigr)=$$   \n",
    "\n",
    "### $$=\\lim_{n\\to \\infty} (\\sqrt{n^2+1}-n)\\cdot\\frac{\\sqrt{n^2+1}+n}{\\sqrt{n^2+1}+n}=$$ \n",
    "\n",
    "### $$=\\lim_{n\\to \\infty} \\frac{n^2+1-n^2}{\\sqrt{n^2+1}+n}=$$ \n",
    "\n",
    "### $$=\\lim_{n\\to \\infty} \\frac{1}{\\sqrt{n^2+1}+n}=0$$ "
   ]
  },
  {
   "cell_type": "markdown",
   "metadata": {},
   "source": [
    "### $$д)\\,\\,\\,\\,\\lim_{n\\to \\infty} \\frac{(-4)^n+5\\cdot7^n}{(-4)^{n-1}+7^{n+2}}$$\n",
    "\n",
    "Решение:\n",
    "\n",
    "### $$\\lim_{n\\to \\infty} \\frac{(-4)^n+5\\cdot7^n}{(-4)^{n-1}+7^{n+2}}=\\Bigl(\\frac{\\infty}{\\infty}\\Bigr)=$$   \n",
    "\n",
    "### $$=\\lim_{n\\to \\infty} \\frac{(-4)^n+5\\cdot7^n}{\\Bigl(-\\frac{1}{4}\\Bigr)\\cdot(-4)^n+49\\cdot7^n}=$$ \n",
    "\n",
    "### $$=\\lim_{n\\to \\infty} \\frac{7^n\\cdot\\Bigl(\\Bigl(-\\frac{4}{7}\\Bigr)^n+5\\Bigr)}{7^n\\cdot\\Bigl(\\Bigl(-\\frac{1}{4}\\Bigr)\\cdot\\Bigl(-\\frac{4}{7}\\Bigr)^n+49\\Bigr)}=\\frac{5}{49}$$ "
   ]
  },
  {
   "cell_type": "markdown",
   "metadata": {},
   "source": [
    "### $$e)^*\\,\\,\\,\\,\\lim_{n\\to \\infty} \\Bigl(\\frac{1}{1\\cdot2}+\\frac{1}{2\\cdot3}+\\frac{1}{3\\cdot4}+...+\\frac{1}{n\\cdot (n+1)}\\Bigr)$$\n",
    "\n",
    "Решение:\n",
    "\n",
    "В данном примере пока мы не сведем бесконечную последовательность к конечной, рассуждать о виде неопределенности нельзя.\n",
    "\n",
    "### $$\\lim_{n\\to \\infty} \\Bigl(\\frac{1}{1\\cdot2}+\\frac{1}{2\\cdot3}+\\frac{1}{3\\cdot4}+...+\\frac{1}{n\\cdot (n+1)}\\Bigr)=$$\n",
    "\n",
    "Каждую дробь можно представить в виде разности двух \n",
    "\n",
    "### $$\\frac{1}{1\\cdot2}=\\frac{1}{1}-\\frac{1}{2}$$ \n",
    "\n",
    "### $$\\frac{1}{2\\cdot3}=\\frac{1}{2}-\\frac{1}{3}$$ \n",
    "\n",
    "### $$\\frac{1}{3\\cdot4}=\\frac{1}{3}-\\frac{1}{4}$$ \n",
    "\n",
    "### $$\\frac{1}{n\\cdot (n+1)}=\\frac{1}{n}-\\frac{1}{n+1}$$ \n",
    "\n",
    "Получаем:\n",
    "\n",
    "### $$\\lim_{n\\to \\infty} \\Bigl(\\frac{1}{1}-\\frac{1}{2}+\\frac{1}{2}-\\frac{1}{3}+...+\\frac{1}{n}-\\frac{1}{n+1}\\Bigr)=$$\n",
    "\n",
    "### $$=\\lim_{n\\to \\infty} \\Bigl(1-\\frac{1}{n+1}\\Bigr)=1$$"
   ]
  },
  {
   "cell_type": "markdown",
   "metadata": {},
   "source": [
    "Для решения $2$ и $3$ задачи воспользуемся полученной формулой:\n",
    "    \n",
    "### $$\\frac{1}{n\\cdot (n+1)}=\\frac{1}{n}-\\frac{1}{n+1}$$ \n",
    "\n",
    "### $$\\frac{1}{n}=\\frac{1}{n\\cdot (n+1)}+\\frac{1}{n+1}$$ "
   ]
  },
  {
   "cell_type": "markdown",
   "metadata": {},
   "source": [
    "__2.__ Представьте $1$ в виде суммы трех обыкновенных дробей с разными знаменателями и числителем равным $1$.\n",
    "\n",
    "Решение:\n",
    "\n",
    "### $$1=\\frac{1}{2}+\\frac{1}{2}$$\n",
    "\n",
    "Далее просто раскладываем одну из дробей по формуле\n",
    "\n",
    "### $$\\frac{1}{2}=\\frac{1}{2\\cdot3}+\\frac{1}{3}$$\n",
    "\n",
    "Получаем, что \n",
    "\n",
    "### $$1=\\frac{1}{2}+\\frac{1}{6}+\\frac{1}{3}$$"
   ]
  },
  {
   "cell_type": "markdown",
   "metadata": {},
   "source": [
    "__3$^*$.__ Тоже задание, только в виде суммы шести дробей.\n",
    "\n",
    "Решение:\n",
    "\n",
    "Раскладываем каждую дробь по формуле из предыдущего примера:\n",
    "\n",
    "### $$\\frac{1}{2}=\\frac{1}{2\\cdot3}+\\frac{1}{3}$$\n",
    "\n",
    "### $$\\frac{1}{6}=\\frac{1}{6\\cdot7}+\\frac{1}{7}$$\n",
    "\n",
    "### $$\\frac{1}{3}=\\frac{1}{3\\cdot4}+\\frac{1}{4}$$\n",
    "\n",
    "Получаем, что \n",
    "\n",
    "### $$1=\\frac{1}{6}+\\frac{1}{3}+\\frac{1}{42}+\\frac{1}{7}+\\frac{1}{12}+\\frac{1}{4}$$"
   ]
  },
  {
   "cell_type": "markdown",
   "metadata": {},
   "source": [
    "__4.__ Пользуясь критерием Коши, докажите сходимость последовательности:\n",
    "\n",
    "### $$a_n=\\frac{\\sin1}{2}+\\frac{\\sin2}{2^2}+\\frac{\\sin3}{2^3}+..\\frac{\\sin n}{2^n}\\,\\,\\,\\,\\,\\Rightarrow$$\n",
    "\n",
    "### $$\\Bigl\\{a_n\\Bigr\\}_{n=1}^\\infty=\\Bigl\\{\\frac{\\sin1}{2}, \\frac{\\sin1}{2}+\\frac{\\sin2}{2^2}, ..., a_n,...\\Bigr\\}$$\n",
    "\n",
    "\n",
    "$^*$ Какой член последовательности можно взять в качестве предела с точностью $\\varepsilon=10^{-7}$?\n",
    "\n",
    "Решение:\n",
    "\n",
    "Напомню критерий сходимости Коши\n",
    "\n",
    "### $$\\forall\\varepsilon>0\\,\\,\\,\\exists N(\\varepsilon), \\,\\,\\,\\forall n>N(\\varepsilon)\\,\\,\\,\\forall k\\geq1:|a_n-a_{n+k}|<\\varepsilon$$\n",
    "\n",
    "Найдем связь $N(\\varepsilon)$\n",
    "\n",
    "### $$a_n=\\frac{\\sin1}{2}+\\frac{\\sin2}{2^2}+\\frac{\\sin3}{2^3}+..\\frac{\\sin n}{2^n}$$\n",
    "\n",
    "### $$a_{n+k}=\\frac{\\sin1}{2}+\\frac{\\sin2}{2^2}+\\frac{\\sin3}{2^3}+..\\frac{\\sin (n+k)}{2^{n+k}}$$\n",
    "\n",
    "### $$|a_n-a_{n+k}|=\\Bigl|\\frac{\\sin(n+1)}{2^{n+1}}+\\frac{\\sin(n+2)}{2^{n+2}}+..+\\frac{\\sin (n+k)}{2^{n+k}}\\Bigr|\\leq$$\n",
    "\n",
    "### $$\\leq\\frac{|\\sin(n+1)|}{2^{n+1}}+\\frac{|\\sin(n+2)|}{2^{n+2}}+..+\\frac{|\\sin (n+k)|}{2^{n+k}}\\leq$$\n",
    "\n",
    "### $$\\leq\\frac{1}{2^{n+1}}+\\frac{1}{2^{n+2}}+..+\\frac{1}{2^{n+k}}=$$\n",
    "\n",
    "### $$=\\frac{1}{2^{n}}\\Bigl(\\frac{1}{2}+\\frac{1}{2^{2}}+..+\\frac{1}{2^{k}}\\Bigr)=$$\n",
    "\n",
    "### $$=\\frac{1}{2^{n}}\\cdot\\frac{\\frac{1}{2}\\cdot\\Bigl(1-\\frac{1}{2^{k}}\\Bigr)}{1-\\frac{1}{2}}=$$\n",
    "\n",
    "### $$=\\frac{1}{2^{n}}\\cdot\\Bigl(1-\\frac{1}{2^{k}}\\Bigr)<\\frac{1}{2^{n}}<\\frac{1}{2^{N(\\varepsilon)}}=\\varepsilon$$\n",
    "\n",
    "То есть мы получили такую же связь, как и на вебинаре\n",
    "\n",
    "### $$N(\\varepsilon)=-\\log_2 \\varepsilon$$ \n",
    "\n",
    "При таком подборе $N(\\varepsilon)$ неравенство будет выполняться автоматически, при этом формула верна для $\\forall\\varepsilon>0$. То есть последовательность сходится\n",
    "\n",
    "Для точности $\\varepsilon=10^{-7}$\n",
    "\n",
    "### $$N(10^{-7})=-\\log_2 10^{-7}=7\\cdot\\log_2 10 \\approx23.25$$ \n",
    "\n",
    "То есть в качестве предела можно взять любой член, начиная с $24$ "
   ]
  },
  {
   "cell_type": "markdown",
   "metadata": {},
   "source": [
    "__5$^*$.__  Пользуясь критерием Коши, докажите расходимость последовательности:\n",
    "\n",
    "### $$b_n=1+\\frac{1}{2}+\\frac{1}{3}+..\\frac{1}{n}\\,\\,\\,\\,\\,\\Rightarrow$$\n",
    "\n",
    "### $$\\Bigl\\{b_n\\Bigr\\}_{n=1}^\\infty=\\Bigl\\{1, 1+\\frac{1}{2},1+\\frac{1}{2}+\\frac{1}{3}, ..., b_n,...\\Bigr\\}$$\n",
    "\n",
    "Решение:\n",
    "\n",
    "Напомню критерий расходимости Коши\n",
    "\n",
    "\n",
    "### $$\\exists\\varepsilon>0\\,\\,\\,\\forall N, \\,\\,\\,\\exists n>N\\,\\,\\,\\exists k\\geq1:|a_n-a_{n+k}|\\geq\\varepsilon$$\n",
    "\n",
    "\n",
    "### $$b_n=1+\\frac{1}{2}+\\frac{1}{3}+..\\frac{1}{n}$$\n",
    "\n",
    "### $$b_{n+k}=1+\\frac{1}{2}+\\frac{1}{3}+..\\frac{1}{n+k}$$\n",
    "\n",
    "### $$|b_n-b_{n+k}|=\\Bigl|\\frac{1}{n+1}+\\frac{1}{n+2}+..+\\frac{1}{n+k}\\Bigr|\\geq$$\n",
    "\n",
    "### $$\\geq\\Bigl|\\frac{1}{n+k}+\\frac{1}{n+k}+..+\\frac{1}{n+k}\\Bigr|=$$\n",
    "### $$=\\Bigl|k\\cdot\\frac{1}{n+k}\\Bigr|=\\frac{k}{n+k}=$$\n",
    "\n",
    "Пусть $k=n>N$, при этом $N$ абсолютно любой, тогда\n",
    "\n",
    "### $$=\\frac{n}{n+n}=\\frac{n}{2n}=\\frac{1}{2}=\\varepsilon$$\n",
    "\n",
    "То есть для конкретного $\\varepsilon=\\frac{1}{2}$ и $\\forall N$ мы нашли такие $n$ и $k$, при которых выполняется неравенство. Следовательно последовательность расходится"
   ]
  }
 ],
 "metadata": {
  "colab": {
   "collapsed_sections": [],
   "name": "Lesson_1-REVISED.ipynb",
   "provenance": [],
   "version": "0.3.2"
  },
  "kernelspec": {
   "display_name": "Python 3 (ipykernel)",
   "language": "python",
   "name": "python3"
  },
  "language_info": {
   "codemirror_mode": {
    "name": "ipython",
    "version": 3
   },
   "file_extension": ".py",
   "mimetype": "text/x-python",
   "name": "python",
   "nbconvert_exporter": "python",
   "pygments_lexer": "ipython3",
   "version": "3.8.13"
  }
 },
 "nbformat": 4,
 "nbformat_minor": 1
}
