{
 "cells": [
  {
   "cell_type": "markdown",
   "metadata": {
    "id": "zz7SDkPIkVlM"
   },
   "source": [
    "# Урок 4"
   ]
  },
  {
   "cell_type": "markdown",
   "metadata": {
    "id": "p_3vqG5-kVlP"
   },
   "source": [
    "# Разбор домашнего задания"
   ]
  },
  {
   "cell_type": "markdown",
   "metadata": {
    "id": "SmdURZ_OkVqQ"
   },
   "source": [
    "__1.__ Найти предел последовательности:\n",
    "\n",
    "### $$а)\\,\\,\\,\\,\\lim_{x\\to 6} \\frac{x^2-36}{x^2-x-30}$$\n",
    "\n",
    "Решение\n",
    "\n",
    "### $$\\lim_{x\\to 6} \\frac{x^2-36}{x^2-x-30}=\\Bigl(\\frac{0}{0}\\Bigr)=$$\n",
    "\n",
    "### $$=\\lim_{x\\to 6} \\frac{(x-6)(x+6)}{(x-6)(x+5)}=$$\n",
    "\n",
    "### $$=\\lim_{x\\to 6} \\frac{x+6}{x+5}=\\frac{6+6}{6+5}=\\frac{12}{11}$$"
   ]
  },
  {
   "cell_type": "markdown",
   "metadata": {
    "id": "KGxz5mfR-Zkm"
   },
   "source": [
    "### $$б)\\,\\,\\,\\,\\lim_{x\\to 7} \\frac{x^2-49}{x^2-13x+42}$$\n",
    "\n",
    "Решение\n",
    "\n",
    "### $$\\lim_{x\\to 7} \\frac{x^2-49}{x^2-13x+42}=\\Bigl(\\frac{0}{0}\\Bigr)=$$\n",
    "\n",
    "### $$=\\lim_{x\\to 7} \\frac{(x-7)(x+7)}{(x-7)(x-6)}=$$\n",
    "\n",
    "### $$=\\lim_{x\\to 7} \\frac{x+7}{x-6}=\\frac{7+7}{7-6}=14$$"
   ]
  },
  {
   "cell_type": "markdown",
   "metadata": {
    "id": "SDs_-5_X-Zkr"
   },
   "source": [
    "### $$в^*)\\,\\,\\,\\,\\lim_{x\\to 7} \\frac{\\sqrt{x+2}-\\sqrt[3]{x+20}}{\\sqrt[4]{x+9}-2}$$\n",
    "\n",
    "Решение\n",
    "\n",
    "### $$\\lim_{x\\to 7} \\frac{\\sqrt{x+2}-\\sqrt[3]{x+20}}{\\sqrt[4]{x+9}-2}=\\Bigl(\\frac{0}{0}\\Bigr)=$$\n",
    "\n",
    "### $$=\\lim_{x\\to 7} \\frac{\\sqrt{x+2}-\\sqrt[3]{x+20}}{\\sqrt[4]{x+9}-2}\\cdot\\frac{\\sqrt{x+2}+\\sqrt[3]{x+20}}{\\sqrt{x+2}+\\sqrt[3]{x+20}}\\cdot\\frac{\\sqrt[4]{x+9}+2}{\\sqrt[4]{x+9}+2}=$$\n",
    "\n",
    "### $$=\\lim_{x\\to 7} \\frac{x+2-\\sqrt[3]{(x+20)^2}}{\\sqrt{x+9}-4}\\cdot\\frac{2+2}{3+3}=$$\n",
    "\n",
    "### $$=\\lim_{x\\to 7} \\frac{x+2-\\sqrt[3]{(x+20)^2}}{\\sqrt{x+9}-4}\\cdot\\frac{2}{3}\\cdot\\frac{(x+2)^2+(x+2)\\sqrt[3]{(x+20)^2}+\\sqrt[3]{(x+20)^4}}{(x+2)^2+(x+2)\\sqrt[3]{(x+20)^2}+\\sqrt[3]{(x+20)^4}}\\cdot\\frac{\\sqrt{x+9}+4}{\\sqrt{x+9}+4}=$$\n",
    "\n",
    "\n",
    "\n",
    "### $$=\\lim_{x\\to 7} \\frac{(x+2)^3-(x+20)^2}{x+9-16}\\cdot\\frac{2}{3}\\cdot\\frac{4+4}{9^2+9\\cdot9+9^2}=$$\n",
    "\n",
    "### $$=\\lim_{x\\to 7} \\frac{(x+2)^3-(x+20)^2}{x+9-16}\\cdot\\frac{2\\cdot8}{3\\cdot243}=$$\n",
    "\n",
    "### $$=\\lim_{x\\to 7} \\frac{x^3+6x^2+12x+8-x^2-40x-400}{x-7}\\cdot\\frac{2\\cdot8}{3\\cdot243}=$$\n",
    "\n",
    "### $$=\\lim_{x\\to 7} \\frac{x^3+5x^2-28x-392}{x-7}\\cdot\\frac{2\\cdot8}{3\\cdot243}=$$\n",
    "\n",
    "### $$=\\lim_{x\\to 7} \\frac{(x-7)(x^2+12x+56)}{x-7}\\cdot\\frac{2\\cdot8}{3\\cdot243}=$$\n",
    "\n",
    "### $$=\\frac{49+84+56}{1}\\cdot\\frac{2\\cdot8}{3\\cdot243}=$$\n",
    "\n",
    "### $$=\\frac{189}{1}\\cdot\\frac{2\\cdot8}{3\\cdot243}=\\frac{112}{27}$$"
   ]
  },
  {
   "cell_type": "markdown",
   "metadata": {
    "id": "ikx6-9sn-Zkx"
   },
   "source": [
    "### $$г)\\,\\,\\,\\,\\lim_{x\\to 0} \\frac{3x\\,\\mbox{tg}\\,4x}{1-\\cos4x}$$\n",
    "\n",
    "Решение\n",
    "\n",
    "### $$\\lim_{x\\to 0} \\frac{3x\\,\\mbox{tg}\\,4x}{1-\\cos4x}=\\Bigl(\\frac{0}{0}\\Bigr)=$$\n",
    "\n",
    "### $$=\\lim_{x\\to 0} \\frac{3x\\cdot4x}{\\frac{16x^2}{2}}=\\frac{3\\cdot4}{8}=\\frac{3}{2}$$\n"
   ]
  },
  {
   "cell_type": "markdown",
   "metadata": {
    "id": "TAVNjRH1-Zk1"
   },
   "source": [
    "### $$д^{**})\\,\\,\\,\\,\\lim_{x\\to 0} \\frac{\\sqrt2x^2\\sin4x}{(1-\\cos2x)^{\\frac{3}{2}}}$$\n",
    "\n",
    "\n",
    "Решение\n",
    "\n",
    "### $$\\lim_{x\\to 0} \\frac{\\sqrt2x^2\\sin4x}{(1-\\cos2x)^{\\frac{3}{2}}}=\\Bigl(\\frac{0}{0}\\Bigr)=$$\n",
    "\n",
    "### $$=\\lim_{x\\to 0} \\frac{\\sqrt2x^2\\cdot4x}{\\Bigl(\\frac{4x^2}{2}\\Bigr)^{\\frac{3}{2}}}=$$\n",
    "\n",
    "### $$=\\lim_{x\\to 0} \\frac{\\sqrt2x^2\\cdot4x}{\\sqrt{8x^6}}=$$\n",
    "\n",
    "### $$=\\lim_{x\\to 0} \\frac{4\\sqrt2x^3}{2\\sqrt{2}|x^3|}=\\pm2$$\n",
    "\n",
    "Если предел в точке существует, то он единственный. Поэтому в этом примере предела в точке не существует."
   ]
  },
  {
   "cell_type": "markdown",
   "metadata": {
    "id": "c73gLN18-Zk_"
   },
   "source": [
    "### $$е)\\,\\,\\,\\,\\lim_{x\\to \\infty} \\Bigr(\\frac{4x}{4x+3}\\Bigl)^\\frac{5x^2}{7x-1}$$\n",
    "\n",
    "\n",
    "Решение\n",
    "\n",
    "### $$\\lim_{x\\to \\infty} \\Bigr(\\frac{4x}{4x+3}\\Bigl)^\\frac{5x^2}{7x-1}=(1)^\\infty=$$\n",
    "\n",
    "### $$=e^{\\lim_{x\\to \\infty} \\Bigr(\\frac{4x}{4x+3}-1\\Bigl)\\cdot\\frac{5x^2}{7x-1}}=$$\n",
    "\n",
    "### $$=e^{\\lim_{x\\to \\infty} \\frac{-3}{4x+3}\\cdot\\frac{5x^2}{7x-1}}=$$\n",
    "\n",
    "### $$=e^{\\frac{-3\\cdot5}{4\\cdot7}}=e^{-\\frac{15}{28}}$$"
   ]
  },
  {
   "cell_type": "markdown",
   "metadata": {
    "id": "N8ePJYfn-ZlE"
   },
   "source": [
    "### $$ж^*)\\,\\,\\,\\,\\lim_{x\\to +0} \\frac{5^x-1}{x}$$\n",
    "\n",
    "Решение\n",
    "\n",
    "### $$\\lim_{x\\to +0} \\frac{5^x-1}{x}=\\Bigl(\\frac{0}{0}\\Bigr)=$$\n",
    "\n",
    "### $$\\lim_{x\\to +0} \\frac{e^{x\\ln5}-1}{x}=$$\n",
    "\n",
    "### $$\\lim_{x\\to +0} \\frac{\\ln5(e^{x\\ln5}-1)}{x\\ln5}=\\ln5$$"
   ]
  },
  {
   "cell_type": "markdown",
   "metadata": {
    "id": "RIDNSWzB-ZlG"
   },
   "source": [
    "### $$з^*)\\,\\,\\,\\,\\lim_{x\\to +\\infty} \\frac{\\ln(x^2-x+1)}{\\ln(x^{10}+x+1)}$$\n",
    "\n",
    "Решение\n",
    "\n",
    "### $$\\lim_{x\\to +\\infty} \\frac{\\ln(x^2-x+1)}{\\ln(x^{10}+x+1)}=\\Bigl(\\frac{\\infty}{\\infty}\\Bigr)=$$\n",
    "\n",
    "### $$\\lim_{x\\to +\\infty} \\frac{\\ln(x^2)+\\ln(1-\\frac{1}{x}+\\frac{1}{x^2})}{\\ln(x^{10})+\\ln(1+\\frac{1}{x^9}+\\frac{1}{x^{10}})}=$$\n",
    "\n",
    "### $$=\\frac{2\\ln(\\infty)}{10\\ln(\\infty)}=\\frac{2}{10}=\\frac{1}{5}$$"
   ]
  },
  {
   "cell_type": "markdown",
   "metadata": {
    "id": "mllILS7g-ZlT"
   },
   "source": [
    "### Правило лопиталя\n",
    "\n",
    "Если предел \n",
    "\n",
    "### $$\\lim_{x\\to x_0} \\frac{f(x)}{g(x)}$$\n",
    "\n",
    "имеет неопределенность\n",
    "\n",
    "### $$\\Bigl(\\frac{\\infty}{\\infty}\\Bigr) \\,\\mbox{или}\\,\\Bigl(\\frac{0}{0}\\Bigr)$$\n",
    "\n",
    "тогда:\n",
    "\n",
    "### $$\\lim_{x\\to x_0} \\frac{f(x)}{g(x)}=\\lim_{x\\to x_0} \\frac{f'(x)}{g'(x)}$$"
   ]
  },
  {
   "cell_type": "markdown",
   "metadata": {
    "id": "BsGuaAqu-ZlU"
   },
   "source": [
    "__2*.__ На языке Python предложить алгоритм вычисляющий численно предел последовательности\n",
    "\n",
    "### $$\\lim_{n\\to +\\infty} \\frac{n}{\\sqrt[n]{n!}}$$"
   ]
  },
  {
   "cell_type": "code",
   "execution_count": null,
   "metadata": {
    "id": "bVABk2r--ZlW"
   },
   "outputs": [],
   "source": [
    "from math import lgamma  #lgamma(n) = ln((n-1)!)\n",
    "import numpy as np\n",
    "import math\n",
    "from decimal import Decimal\n",
    "import time"
   ]
  },
  {
   "cell_type": "code",
   "execution_count": null,
   "metadata": {
    "id": "WTaJR7MT-Zlc",
    "outputId": "1c07b5be-824c-4e14-bb0a-34b439b7c9f8"
   },
   "outputs": [
    {
     "name": "stdout",
     "output_type": "stream",
     "text": [
      "2.684030488771894142063369175 0.000099697432711786705996101 297\n",
      "--- 5.057932615280151 seconds ---\n"
     ]
    }
   ],
   "source": [
    "#Через встроенный факториал\n",
    "start_time = time.time()\n",
    "\n",
    "def f(n):\n",
    "    b = math.factorial(n)\n",
    "    a = n / b**(1 / n)\n",
    "    return a\n",
    "\n",
    "acc = 0.0001\n",
    "i=Decimal(2)\n",
    "\n",
    "while(abs(f(i) - f(i-1))) > acc:\n",
    "    i +=1\n",
    "print(f(i), abs(f(i)-f(i-1)), i)\n",
    "print(\"--- %s seconds ---\" % (time.time() - start_time))"
   ]
  },
  {
   "cell_type": "code",
   "execution_count": null,
   "metadata": {
    "id": "ENyOF77l-Zlf",
    "outputId": "8c24f384-2444-425d-a9d8-cc770dd7aaeb"
   },
   "outputs": [
    {
     "name": "stdout",
     "output_type": "stream",
     "text": [
      "2.706707028529769028562952103 0.000009964151609147506113138 1028\n",
      "--- 9.691914558410645 seconds ---\n"
     ]
    }
   ],
   "source": [
    "#Через самописный факториал\n",
    "start_time = time.time()\n",
    "\n",
    "acc = 0.00001\n",
    "fact = Decimal(2)\n",
    "i = Decimal(3)\n",
    "fi_1 = 1/1**(1/1)\n",
    "fi   = 2/2**(1/2)\n",
    "\n",
    "while(abs(fi-fi_1))>acc:\n",
    "    \n",
    "    fact *= i\n",
    "    fi_1 = fi\n",
    "    fi = float(i/fact**(1/i))\n",
    "    i +=1\n",
    "    \n",
    "print(f(i), abs(f(i)-f(i-1)), i)\n",
    "print(\"--- %s seconds ---\" % (time.time() - start_time))"
   ]
  },
  {
   "cell_type": "markdown",
   "metadata": {
    "id": "mSzZJSDz-Zlj"
   },
   "source": [
    "### Формула Стирлинга\n",
    "\n",
    "### $$n!\\approx\\sqrt{2\\pi n}\\Bigl(\\frac{n}{e}\\Bigr)^n$$"
   ]
  },
  {
   "cell_type": "code",
   "execution_count": null,
   "metadata": {
    "id": "XsodsTkd-Zll",
    "outputId": "f3b42ee8-32fd-47ac-cb9a-f1fef63fc21d"
   },
   "outputs": [
    {
     "name": "stdout",
     "output_type": "stream",
     "text": [
      "2.7182665937361787 9.99955673819386e-12 1428290\n",
      "--- 5.7257256507873535 seconds ---\n"
     ]
    }
   ],
   "source": [
    "#Через формулу Стирлинга\n",
    "start_time = time.time()\n",
    "\n",
    "def f(n):\n",
    "    return np.e/(2*np.pi*n)**(1 / (2 * n))\n",
    "acc = 0.00000000001\n",
    "i=2\n",
    "while(abs(f(i)-f(i-1)))>acc:\n",
    "    i +=1\n",
    "print(f(i), abs(f(i)-f(i-1)), i)\n",
    "print(\"--- %s seconds ---\" % (time.time() - start_time))"
   ]
  },
  {
   "cell_type": "code",
   "execution_count": null,
   "metadata": {
    "id": "A6Cukjfx-Zlm",
    "outputId": "543971ce-f3a1-43cd-b9b7-114ba5d370cd"
   },
   "outputs": [
    {
     "name": "stdout",
     "output_type": "stream",
     "text": [
      "2.7182818284590478\n",
      "2.718281828459045\n"
     ]
    }
   ],
   "source": [
    "n = 30_000_000_000_000_000\n",
    "\n",
    "print (n / np.e**(lgamma(n+1) / n))\n",
    "print (np.e)"
   ]
  },
  {
   "cell_type": "code",
   "execution_count": null,
   "metadata": {
    "id": "ygM9y8dR-Zln",
    "outputId": "84ce0bde-172d-46a5-b54b-27e7ea6c9559"
   },
   "outputs": [
    {
     "name": "stdout",
     "output_type": "stream",
     "text": [
      "2.7182665873231926 9.99866855977416e-12 1427649\n",
      "--- 4.081213712692261 seconds ---\n"
     ]
    }
   ],
   "source": [
    "#Через функцию lgamma(n) = ln((n-1)!)\n",
    "start_time = time.time()\n",
    "\n",
    "def f(n):\n",
    "    return n/np.e**(lgamma(n + 1) / n)\n",
    "acc = 0.00000000001\n",
    "i=2\n",
    "while(abs(f(i) - f(i-1))) > acc:\n",
    "    i +=1\n",
    "print(f(i), abs(f(i)-f(i-1)), i)\n",
    "print(\"--- %s seconds ---\" % (time.time() - start_time))"
   ]
  }
 ],
 "metadata": {
  "colab": {
   "collapsed_sections": [],
   "provenance": []
  },
  "kernelspec": {
   "display_name": "Python 3 (ipykernel)",
   "language": "python",
   "name": "python3"
  },
  "language_info": {
   "codemirror_mode": {
    "name": "ipython",
    "version": 3
   },
   "file_extension": ".py",
   "mimetype": "text/x-python",
   "name": "python",
   "nbconvert_exporter": "python",
   "pygments_lexer": "ipython3",
   "version": "3.8.13"
  }
 },
 "nbformat": 4,
 "nbformat_minor": 1
}
