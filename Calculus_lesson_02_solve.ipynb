{
 "cells": [
  {
   "cell_type": "markdown",
   "metadata": {
    "colab_type": "text",
    "id": "zz7SDkPIkVlM"
   },
   "source": [
    "# Урок 2"
   ]
  },
  {
   "cell_type": "markdown",
   "metadata": {
    "colab_type": "text",
    "id": "p_3vqG5-kVlP"
   },
   "source": [
    "# Разбор домашнего задания"
   ]
  },
  {
   "cell_type": "markdown",
   "metadata": {
    "colab_type": "text",
    "id": "qr-AsNg3SEMR"
   },
   "source": [
    "__1.__ Представьте в виде __несократимой__ рациональной дроби:\n",
    "\n",
    "### $$а)\\,\\,\\, 0.(216);$$\n",
    "\n",
    "Решение:\n",
    "\n",
    "\n",
    "### $$a=0.(216)$$\n",
    "\n",
    "### $$1000a=216.(216)$$\n",
    "\n",
    "### $$1000a=216+0.(216)$$\n",
    "\n",
    "### $$1000a=216+a$$\n",
    "\n",
    "### $$999a=216$$\n",
    "\n",
    "### $$a=\\frac{216}{999}=\\frac{24}{111}=\\frac{8}{37}$$\n",
    "\n",
    "### $$0.(216)=\\frac{8}{37}$$"
   ]
  },
  {
   "cell_type": "code",
   "execution_count": null,
   "metadata": {
    "colab": {},
    "colab_type": "code",
    "id": "VmPJJK9hSEMS",
    "outputId": "18bb6426-67ce-4618-baa5-c0d545954229"
   },
   "outputs": [
    {
     "name": "stdout",
     "output_type": "stream",
     "text": [
      "0.21621621621621623\n"
     ]
    }
   ],
   "source": [
    "print(8 / 37)"
   ]
  },
  {
   "cell_type": "markdown",
   "metadata": {
    "colab_type": "text",
    "id": "4FfMZ5v7SEMb"
   },
   "source": [
    "### $$б)\\,\\,\\, 1.0(01).$$\n",
    "\n",
    "Решение:\n",
    "\n",
    "Сперва представим в виде обыкновенной дроби $0.(01)$\n",
    "### $$b=0.(01)$$\n",
    "\n",
    "### $$100b=1.(01)$$\n",
    "\n",
    "### $$100b=1+0.(01)$$\n",
    "\n",
    "### $$100b=1+b$$\n",
    "\n",
    "### $$99b=1$$\n",
    "\n",
    "### $$b=\\frac{1}{99}$$\n",
    "\n",
    "Теперь решим сам пример\n",
    "\n",
    "### $$с=1.0(01)$$\n",
    "\n",
    "### $$10с=10.(01)$$\n",
    "\n",
    "### $$10с=10+0.(01)$$\n",
    "\n",
    "### $$10с=10+\\frac{1}{99}$$\n",
    "\n",
    "### $$10с=\\frac{991}{99}$$\n",
    "\n",
    "### $$с=\\frac{991}{990}$$\n",
    "\n",
    "### $$1.0(01)=\\frac{991}{990}$$"
   ]
  },
  {
   "cell_type": "code",
   "execution_count": null,
   "metadata": {
    "colab": {},
    "colab_type": "code",
    "id": "BowEOcaJSEMd",
    "outputId": "69d7d539-a71b-4331-e0b0-65a6fe929a2d"
   },
   "outputs": [
    {
     "name": "stdout",
     "output_type": "stream",
     "text": [
      "1.001010101010101\n"
     ]
    }
   ],
   "source": [
    "print(991 / 990)"
   ]
  },
  {
   "cell_type": "markdown",
   "metadata": {
    "colab_type": "text",
    "id": "B_t0U4JASEMj"
   },
   "source": [
    "__2*.__ Пусть $x =\\frac{2}{21}$. Известно, что для некоторого натурального $k$ число $x$ записывается в $k$ - ичной системе счисления как $0.(13)_k = 0, 131313_k$. Найдите $k$.\n",
    "\n",
    "Решение:\n",
    "\n",
    "### $$x=0.(13)_k$$\n",
    "\n",
    "Чтобы сместить два разряда, нужно умножить два раза на $k$\n",
    "\n",
    "### $$k^2x=13.(13)_k$$\n",
    "\n",
    "### $$k^2x=13_k+0.(13)_k$$\n",
    "\n",
    "### $$k^2x=13_k+x$$\n",
    "\n",
    "### $$k^2x-x=13_k$$\n",
    "\n",
    "### $$(k^2-1)x=13_k$$\n",
    "\n",
    "### $$x=\\frac{13_k}{k^2-1}$$\n",
    "\n",
    "### $$x=\\frac{1\\cdot k^1+3\\cdot k^0}{k^2-1}$$\n",
    "\n",
    "### $$x=\\frac{k+3}{k^2-1}$$\n",
    "\n",
    "### $$\\frac{2}{21}=\\frac{k+3}{k^2-1}$$\n",
    "\n",
    "### $$2k^2-2=21k+63$$\n",
    "\n",
    "### $$2k^2-21k-65=0$$\n",
    "\n",
    "### $$k_1=-2.5\\,\\,\\,\\,\\,k_2=13$$\n",
    "\n",
    "### Ответ: $k=13$"
   ]
  },
  {
   "cell_type": "markdown",
   "metadata": {
    "colab_type": "text",
    "id": "_JW9PCvsSEMk"
   },
   "source": [
    "__3.__ Проверьте любым способ, является ли данные логические формулы тавтологией:\n",
    "\n",
    "### $$a)\\,\\,\\, (A \\vee B) \\rightarrow (B \\vee\\overline A)$$\n",
    "\n",
    "Решение\n",
    "\n",
    "<table>\n",
    "<thead>\n",
    "<tr><th>$A$</th><th>$B$</th><th>$\\overline A$</th><th>$(A \\vee B)$</th><th>$(B \\vee\\overline A)$</th><th>$(A \\vee B) \\rightarrow (B \\vee\\overline A)$</th></tr>\n",
    "</thead>\n",
    "<tbody>\n",
    "    <tr><td>$0$</td><td>$0$</td><td>$1$</td><td>$0$</td><td>$1$</td><td>$1$</td></tr>\n",
    "    <tr><td>$0$</td><td>$1$</td><td>$1$</td><td>$1$</td><td>$1$</td><td>$1$</td></tr>\n",
    "    <tr><td>$1$</td><td>$0$</td><td>$0$</td><td>$1$</td><td>$0$</td><td>$0$</td></tr>\n",
    "    <tr><td>$1$</td><td>$1$</td><td>$0$</td><td>$1$</td><td>$1$</td><td>$1$</td></tr>\n",
    "</tbody>\n",
    "</table>\n",
    "\n",
    "### $$б)\\,\\,\\, A \\rightarrow (A \\vee (\\overline B \\wedge A))$$\n",
    "\n",
    "Решение\n",
    "\n",
    "<table>\n",
    "<thead>\n",
    "<tr><th>$A$</th><th>$B$</th><th>$\\overline B$</th><th>$(\\overline B \\wedge A)$</th><th>$(A \\vee (\\overline B \\wedge A))$</th><th>$A \\rightarrow (A \\vee (\\overline B \\wedge A))$</th></tr>\n",
    "</thead>\n",
    "<tbody>\n",
    "    <tr><td>$0$</td><td>$0$</td><td>$1$</td><td>$0$</td><td>$0$</td><td>$1$</td></tr>\n",
    "    <tr><td>$0$</td><td>$1$</td><td>$0$</td><td>$0$</td><td>$0$</td><td>$1$</td></tr>\n",
    "    <tr><td>$1$</td><td>$0$</td><td>$1$</td><td>$1$</td><td>$1$</td><td>$1$</td></tr>\n",
    "    <tr><td>$1$</td><td>$1$</td><td>$0$</td><td>$0$</td><td>$1$</td><td>$1$</td></tr>\n",
    "</tbody>\n",
    "</table>\n",
    "\n"
   ]
  },
  {
   "cell_type": "markdown",
   "metadata": {
    "colab_type": "text",
    "id": "1NOmTqTySEMr"
   },
   "source": [
    "__4.__ Сформулируйте словесно высказывания:\n",
    "### $$a)\\,\\,\\, (\\overline A \\vee B) \\rightarrow \\overline C$$\n",
    "\n",
    "Решение:\n",
    "\n",
    "#### Если сегодня не будет солнца или будет сыро, то я не поеду на дачу\n",
    "\n",
    "### $$б)\\,\\,\\, C \\rightarrow (A \\vee \\overline B)$$\n",
    "\n",
    "Решение:\n",
    "\n",
    "#### Если сегодня я поеду на дачу, то будет солнце или хотя бы сухо.\n",
    "\n",
    "- $A:\\,\\,\\,$ сегодня светит солнце; \n",
    "- $B:\\,\\,\\,$ сегодня сыро; \n",
    "- $C:\\,\\,\\,$ я поеду на дачу. "
   ]
  },
  {
   "cell_type": "markdown",
   "metadata": {
    "colab_type": "text",
    "id": "Ykt3IpPkSEMs"
   },
   "source": [
    "__5.__  Пользуясь правилом построения противоположного высказывания, запишите утверждения, противоположные следующим:\n",
    "\n",
    "a) На любом курсе каждого факультета есть студенты, сдающие все экзамены на «отлично».\n",
    "\n",
    "Решение:\n",
    "\n",
    "$\\forall$ курсе $\\forall$ факультета $\\exists$ студенты, __сдающие__ $\\forall$ экзамены на «отлично».\n",
    "\n",
    "$\\exists$ курсе $\\exists$ факультета $\\forall$ студенты, __не сдающие__ $\\exists$ экзамены на «отлично».\n",
    "\n",
    "#### Существует факультет, на котором есть такой курс, что любые студенты не сдают хотя бы один экзамен на «отлично».\n",
    "\n",
    "б) В любом самолете на рейсе Вашингтон-Москва присутствует хотя бы один сотрудник силовых органов, в каждой пуговице одежды которого вмонтирован микрофон.\n",
    "\n",
    "Решение:\n",
    "\n",
    "$\\forall$ самолете на рейсе Вашингтон-Москва $\\exists$ сотрудник силовых органов,  $\\forall$ пуговице одежды которого __вмонтирован__ микрофон.\n",
    "\n",
    "$\\exists$ самолете на рейсе Вашингтон-Москва  $\\forall$ сотрудник силовых органов, $\\exists$ пуговице одежды которого __не вмонтирован__ микрофон.\n",
    "\n",
    "#### Существует самолет на рейсе Вашингтон-Москва, в котором все сотрудники - это сотрудники силовых органов, в одежде которых есть пуговица, в которую не вмонтирован микрофон."
   ]
  },
  {
   "cell_type": "markdown",
   "metadata": {
    "colab_type": "text",
    "id": "0WpElRCBSEMt"
   },
   "source": [
    "__6*.__ Прочитайте высказывания, установите их истинность и постройте отрицания:\n",
    "\n",
    "### $$a)\\,\\,\\, \\forall x\\in\\mathbb{R}\\,\\,\\,\\exists X\\in\\mathbb{R}:\\,\\,\\, X>x$$\n",
    "\n",
    "Решение:\n",
    "\n",
    "#### Для любого $x$ из множества действительных чисел найдется $X$, который будет больше его.\n",
    "\n",
    "#### Высказывание истинно\n",
    "\n",
    "### $$\\exists x\\in\\mathbb{R}\\,\\,\\,\\forall X\\in\\mathbb{R}:\\,\\,\\, X\\leq x$$\n",
    "\n",
    "### $$б)\\,\\,\\, \\forall y\\in\\Bigl[0; \\frac{\\pi}{2}\\Bigr]\\,\\,\\,\\exists \\varepsilon>0:\\,\\,\\, \\sin y<\\sin(y+\\varepsilon)$$\n",
    "\n",
    "Решение:\n",
    "\n",
    "#### Для любого $y$ из отрезка от $0$ до $\\frac{\\pi}{2}$, включая оба конца, существует $\\varepsilon>0$, такая что выполняется неравенство $\\sin y<\\sin(y+\\varepsilon)$\n",
    "\n",
    "\n",
    "#### Высказывание ложно, так как при $x=\\frac{\\pi}{2}: \\,\\,\\,\\, \\sin \\Bigr(\\frac{\\pi}{2}\\Bigl)=1$, ничего большего быть не может.\n",
    "\n",
    "### $$\\exists y\\in\\Bigl[0; \\frac{\\pi}{2}\\Bigr]\\,\\,\\,\\forall \\varepsilon>0:\\,\\,\\, \\sin y\\geq\\sin(y+\\varepsilon)$$\n",
    "\n",
    "### $$в)\\,\\,\\, \\forall y\\in\\Bigl[0; \\pi\\Bigr)\\,\\,\\,\\exists \\varepsilon>0:\\,\\,\\, \\cos y>\\cos(y+\\varepsilon)$$\n",
    "\n",
    "Решение:\n",
    "\n",
    "#### Для любого $y$ из отрезка от $0$ до $\\pi$, включая $0$, существует $\\varepsilon>0$, такая что выполняется неравенство $\\cos y>\\cos(y+\\varepsilon)$\n",
    "\n",
    "\n",
    "#### Высказывание истинно, так как плохая точка $x=\\pi$ в отрезок не входит.\n",
    "\n",
    "### $$\\exists y\\in\\Bigl[0; \\pi\\Bigr)\\,\\,\\,\\forall \\varepsilon>0:\\,\\,\\, \\cos y\\leq\\cos(y+\\varepsilon)$$"
   ]
  }
 ],
 "metadata": {
  "colab": {
   "collapsed_sections": [],
   "name": "Lesson_2_solve.ipynb",
   "provenance": []
  },
  "kernelspec": {
   "display_name": "Python 3 (ipykernel)",
   "language": "python",
   "name": "python3"
  },
  "language_info": {
   "codemirror_mode": {
    "name": "ipython",
    "version": 3
   },
   "file_extension": ".py",
   "mimetype": "text/x-python",
   "name": "python",
   "nbconvert_exporter": "python",
   "pygments_lexer": "ipython3",
   "version": "3.8.13"
  }
 },
 "nbformat": 4,
 "nbformat_minor": 1
}
