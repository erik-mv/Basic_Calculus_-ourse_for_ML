{
 "cells": [
  {
   "cell_type": "markdown",
   "metadata": {
    "id": "zz7SDkPIkVlM"
   },
   "source": [
    "# Урок 5"
   ]
  },
  {
   "cell_type": "markdown",
   "metadata": {
    "id": "p_3vqG5-kVlP"
   },
   "source": [
    "# Производная функции одной переменной. Часть 1"
   ]
  },
  {
   "cell_type": "markdown",
   "metadata": {
    "id": "ASZcA9HkPKqP"
   },
   "source": [
    "### Определение"
   ]
  },
  {
   "cell_type": "markdown",
   "metadata": {
    "id": "uMto4oL-PKqS"
   },
   "source": [
    "На прошлом уроке мы рассмотрели понятия __образа и прообраза__ из теории множеств, а также несколько случаев отображения одного на другое. Через которые в дальнейшем дали определение функциям. \n",
    "\n",
    "Понятие __производной__, в свою очередь, характеризует степень изменения образа отображения при (бесконечно) малом изменении прообраза. Производные используются во многих математических дисциплинах, но самое широкое распространение получили в курсе математического анализа и дифференциального исчисления.\n",
    "\n",
    "Давайте дадим математическое определение производной __явной__ функции. Возьмем функцию $y=f(x)$. Возьмем точку $x$ и отойдем от нее на расстоянии $\\Delta x$. При этом у нас получится два значения функции $f(x)$ и $f(x+\\Delta x)$. Для определения скорости изменения значения функции от изменения аргумента достаточно найти отношение $\\frac{f(x+\\Delta x)-f(x)}{\\Delta x}$. Но в таком случае мы найдем среднее значение функции на участи от $x$ до $x+\\Delta x$. Для нахождения изменения функции в конкретной точке, нужно перейти к пределам. Если мы устреми $\\Delta x$ к $0$, точка $x+\\Delta x$ устремиться к $x$. Данный предел как раз и является производной __явной__ функции.\n",
    "\n",
    "### $$f'(x)=\\lim_{\\Delta x\\to 0} \\frac{f(x+\\Delta x)-f(x)}{\\Delta x}$$"
   ]
  },
  {
   "cell_type": "markdown",
   "metadata": {
    "id": "Vs0QTNdlPKqY"
   },
   "source": [
    "<img src=\"https://i.ibb.co/S5Czp3J/6-1.png\"  width = 400/>\n"
   ]
  },
  {
   "cell_type": "markdown",
   "metadata": {
    "id": "CulNdbrUPKqe"
   },
   "source": [
    "Теперь давайте найдем производную от простой степенной функции $f(x)=x^2$, воспользовавшись определением, которое дали выше\n",
    "\n",
    "### $$(x^2)'=\\lim_{\\Delta x\\to 0} \\frac{(x+\\Delta x)^2-x^2}{\\Delta x}\n",
    "=$$\n",
    "\n",
    "### $$=\\lim_{\\Delta x\\to 0} \\frac{x^2+2x\\Delta x+(\\Delta x)^2-x^2}{\\Delta x}=$$\n",
    "\n",
    "### $$=\\lim_{\\Delta x\\to 0} (2x+\\Delta x)=2x$$"
   ]
  },
  {
   "cell_type": "markdown",
   "metadata": {
    "id": "nbk4mSYMPKqp"
   },
   "source": [
    "К счастью для нас существует связь между типом функции и ее производной. Поэтому поиск производных не скатывается к рутинному поиску предела. __Для овладения навыком поиска производных явных функций достаточно знать таблицу производных. А так же три дополнительных правила__, которые обсудим чуть позже. "
   ]
  },
  {
   "cell_type": "markdown",
   "metadata": {
    "id": "exqM-MHWPKqq"
   },
   "source": [
    "Итак, таблица производных основных функций.\n",
    "\n",
    "### $$a'=0,\\mbox{где }  a - \\mbox{константа}$$\n",
    "\n",
    "### $$(x^a)'=ax^{a-1}$$\n",
    "\n",
    "### $$(\\sin(x))'=\\cos(x)$$\n",
    "\n",
    "### $$(\\cos(x))'=-\\sin(x)$$\n",
    "\n",
    "### $$(\\mbox{tg}(x))'= \\frac{1}{\\cos^2(x)}$$\n",
    "\n",
    "### $$(\\mbox{ctg}(x))'= -\\frac{1}{\\sin^2(x)}$$\n",
    "\n",
    "### $$(\\arcsin(x))'=\\frac{1}{\\sqrt{1-x^2}}$$\n",
    "\n",
    "### $$(\\arccos(x))'=-\\frac{1}{\\sqrt{1-x^2}}$$\n",
    "\n",
    "### $$(\\mbox{arctg}(x))'=\\frac{1}{1+x^2}$$\n",
    "\n",
    "### $$(\\mbox{arcctg}(x))'=-\\frac{1}{1+x^2}$$\n",
    "\n",
    "### $$(a^x)'=a^x\\ln{a}$$\n",
    "\n",
    "### $$(e^x)'=e^x$$\n",
    "\n",
    "### $$(log_a x)'=\\frac{1}{x \\ln a}$$\n",
    "\n",
    "### $$(\\ln x)'=\\frac{1}{x}$$"
   ]
  },
  {
   "cell_type": "markdown",
   "metadata": {
    "id": "aRP3UPNtPKqr"
   },
   "source": [
    "### Существование"
   ]
  },
  {
   "cell_type": "markdown",
   "metadata": {
    "id": "--f_pyBtPKqs"
   },
   "source": [
    "Условие существование производной можно понять через условие существования предела. Выделим несколько случаев когда производная  в точке не существует.\n",
    "\n",
    "Например производная не существует, если у предела \n",
    "\n",
    "###  $$\\lim_{\\Delta x\\to 0} \\frac{f(x+\\Delta x)-f(x)}{\\Delta x}=f'(x) $$ \n",
    "\n",
    "значения односторонних пределов в точке $x$ не совпадает. Обычно сама функция $f(x)$ в этом случае проходит через точку $x$ \"не гладко\". В качестве хорошего примера можно взять функцию $y= |x|$"
   ]
  },
  {
   "cell_type": "code",
   "execution_count": null,
   "metadata": {
    "id": "umWbO1AtPKqu",
    "outputId": "f2f646c7-72e1-4973-a7c1-17e70a3dea6f"
   },
   "outputs": [
    {
     "data": {
      "text/plain": [
       "[<matplotlib.lines.Line2D at 0x1e9347510b8>]"
      ]
     },
     "execution_count": 16,
     "metadata": {
      "tags": []
     },
     "output_type": "execute_result"
    },
    {
     "data": {
      "image/png": "[encoded data removed]",
      "text/plain": [
       "<Figure size 432x288 with 1 Axes>"
      ]
     },
     "metadata": {
      "needs_background": "light",
      "tags": []
     },
     "output_type": "display_data"
    }
   ],
   "source": [
    "from matplotlib import pylab as plt\n",
    "import numpy as np\n",
    "%matplotlib inline\n",
    "\n",
    "x=np.linspace(-8, 8, 200)\n",
    "y=np.fabs(x)\n",
    "plt.plot(x,y)"
   ]
  },
  {
   "cell_type": "markdown",
   "metadata": {
    "id": "Gc_JX6oyPKqz"
   },
   "source": [
    "Так же можно выделить случай, когда точка $х$, в которой определена функция $y=f(x)$, является граничной и имеет область только с одной стороны. В качестве примера можно взять функцию $y=\\sqrt x$, определенной в нуле. При этом ноль является пограничной точкой. Производная функции равна $y'=\\frac{1}{2 \\sqrt x}$. При этом в нуле производная уже не существует."
   ]
  },
  {
   "cell_type": "code",
   "execution_count": null,
   "metadata": {
    "id": "BsuJffZ1PKq0",
    "outputId": "d0a09f57-d9e6-40e4-9ff2-3c122e7bbca2"
   },
   "outputs": [
    {
     "data": {
      "text/plain": [
       "[<matplotlib.lines.Line2D at 0x1e934877898>]"
      ]
     },
     "execution_count": 19,
     "metadata": {
      "tags": []
     },
     "output_type": "execute_result"
    },
    {
     "data": {
      "image/png": "[encoded data removed]",
      "text/plain": [
       "<Figure size 432x288 with 1 Axes>"
      ]
     },
     "metadata": {
      "needs_background": "light",
      "tags": []
     },
     "output_type": "display_data"
    }
   ],
   "source": [
    "x=np.linspace(0, 8, 200)\n",
    "y=np.sqrt(x)\n",
    "plt.plot(x,y)"
   ]
  },
  {
   "cell_type": "markdown",
   "metadata": {
    "id": "U8iPKREqPKq9"
   },
   "source": [
    "### Дополнительные правила и свойства"
   ]
  },
  {
   "cell_type": "markdown",
   "metadata": {
    "id": "cwN2_7sNPKq_"
   },
   "source": [
    "- __производная от произведения:__\n",
    "\n",
    "### $$(U\\cdot V)'=U'\\cdot V+U\\cdot V'$$\n",
    "\n",
    "- __производная от частного:__\n",
    "\n",
    "### $$\\Bigl(\\frac{U}{V}\\Bigr)'=\\frac{U'\\cdot V-U\\cdot V'}{V^2}$$\n",
    "\n",
    "- __производная от сложной функции:__\n",
    "\n",
    "### $$f'(g(x))=f'\\cdot g'$$\n",
    "\n",
    "- __вынесение константы:__\n",
    "\n",
    "### $$(af(x))'=af'(x)$$\n",
    "\n",
    "- __производная от суммы:__\n",
    "\n",
    "### $$(f(x)+g(x))'=f'(x)+g'(x)$$"
   ]
  },
  {
   "cell_type": "markdown",
   "metadata": {
    "id": "0EGyPdLYPKrC"
   },
   "source": [
    "### Примеры"
   ]
  },
  {
   "cell_type": "markdown",
   "metadata": {
    "id": "O2bOiSKIPKrE"
   },
   "source": [
    "Начнем с производной от произведения\n",
    "\n",
    "### $$(x\\cdot \\sin x)'=\\sin x+ x\\cdot \\cos x$$\n",
    "\n",
    "и от частного \n",
    "\n",
    "### $$\\Bigl(\\frac{x}{\\sin x}\\Bigr)'=\\frac{\\sin x- x\\cdot \\cos x}{\\sin^2x}$$"
   ]
  },
  {
   "cell_type": "markdown",
   "metadata": {
    "id": "UqaXtmbgPKrG"
   },
   "source": [
    "Так же разберемся с производными от сложных функций. Наверное, всем знакома сказка про Кашея. Смерь его была в игле, игла в яйце, яйце в утке и т.д.. Так вот со сложными функциями так же. __Нам нужно понять - на сколько \"простых\" функций можно разбить сложную, найти производную от каждой и взять произведение.__ _Сколько функций - столько и производных!_\n",
    "\n",
    "### $$(\\sin(2x+1))'=\\cos(2x+1) \\cdot 2 $$\n",
    "\n",
    "### $$(\\sin(x^2+2x+1))'=\\cos(x^2+2x+1) \\cdot (2x+2) $$\n",
    "\n",
    "### $$(\\sin^3(x^2+2x+1))'=3\\sin^2(x^2+2x+1) \\cdot \\cos(x^2+2x+1) \\cdot (2x+2) $$\n",
    "\n",
    "### $$(\\ln (\\sin^3(x^2+2x+1)+1))'=\\frac{1}{\\sin^3(x^2+2x+1)+1} \\cdot 3\\sin^2(x^2+2x+1) \\cdot \\cos(x^2+2x+1) \\cdot (2x+2) $$"
   ]
  },
  {
   "cell_type": "markdown",
   "metadata": {
    "id": "WMG3y5HBPKrJ"
   },
   "source": [
    "Из особенный производных можно выделить производные от натуральных логарифмов.\n",
    "\n",
    "### $$(\\ln x)'=\\frac{1}{x} $$\n",
    "\n",
    "### $$(\\ln 3x)'=(\\ln 3+\\ln x)'=\\frac{1}{x} $$\n",
    "\n",
    "### $$(\\ln x^3)'=(3\\ln x)'=\\frac{3}{x} $$\n",
    "\n",
    "### $$\\Bigl(\\ln \\frac{\\sin x \\cdot (x+1)^3}{(x-4)^5}\\Bigr)'=\\frac{\\cos x}{\\sin x}+\\frac{3}{x+1}-\\frac{5}{x-4}$$"
   ]
  },
  {
   "cell_type": "markdown",
   "metadata": {
    "id": "TdmbVhB4PKrQ"
   },
   "source": [
    "Для любой функцию, которую можно представить в степенном виде, производную желательно искать именно в степенном виде.\n",
    "\n",
    "### $$(x^2)'=2x$$\n",
    "\n",
    "### $$\\Bigl(\\frac{1}{x^2}\\Bigr)'=(x^{-2})'=-2x^{-3}=-\\frac{2}{x^3}$$\n",
    "\n",
    "### $$\\Bigl(\\sqrt x\\Bigr)'=\\Bigl(x^{\\frac{1}{2}}\\Bigr)'=\\frac{1}{2}x^{-\\frac{1}{2}}=\\frac{1}{2\\sqrt x}$$\n",
    "\n",
    "### $$\\Bigl(\\frac{1}{\\sqrt {x+1}}\\Bigr)'=\\Bigl((x+1)^{-\\frac{1}{2}}\\Bigr)'=-\\frac{1}{2}(x+1)^{-\\frac{3}{2}}=-\\frac{1}{2\\sqrt {(x+1)^3}}$$"
   ]
  },
  {
   "cell_type": "markdown",
   "metadata": {
    "id": "1WCXkcFwPKrS"
   },
   "source": [
    "Провеять найденные производные можно с помощью библиотеки __sympy__, которая поддерживает символьную алгебру. Особого прикладного значения это не имеет, т.к. основные данные, с которыми Вы будете сталкиваться в работе, имеют дискретный вид. На следящем уроке мы с Вами разберем как находить производные численно. Аналитический"
   ]
  },
  {
   "cell_type": "code",
   "execution_count": 1,
   "metadata": {
    "id": "qg6r9ARmPKrS"
   },
   "outputs": [],
   "source": [
    "from sympy import *\n",
    "init_printing()"
   ]
  },
  {
   "cell_type": "code",
   "execution_count": 2,
   "metadata": {
    "id": "w9zgvx6vPKrT",
    "outputId": "5ffcd37c-91f9-4f39-d5de-c77f547a1ce8"
   },
   "outputs": [
    {
     "data": {
      "image/png": "[encoded data removed]",
      "text/latex": [
       "$\\displaystyle x \\cos{\\left(x \\right)} + \\sin{\\left(x \\right)}$"
      ],
      "text/plain": [
       "x⋅cos(x) + sin(x)"
      ]
     },
     "execution_count": 2,
     "metadata": {},
     "output_type": "execute_result"
    }
   ],
   "source": [
    "x = Symbol('x')\n",
    "f = x * sin(x)\n",
    "diff(f, x)"
   ]
  },
  {
   "cell_type": "code",
   "execution_count": 4,
   "metadata": {
    "id": "gfvE8H8LPKrU",
    "outputId": "bb5f9dfc-f64e-4534-8041-f3d25af0c135"
   },
   "outputs": [
    {
     "data": {
      "image/png": "[encoded data removed]",
      "text/latex": [
       "$\\displaystyle \\frac{- x \\cos{\\left(x \\right)} + \\sin{\\left(x \\right)}}{\\sin^{2}{\\left(x \\right)}}$"
      ],
      "text/plain": [
       "-x⋅cos(x) + sin(x)\n",
       "──────────────────\n",
       "        2         \n",
       "     sin (x)      "
      ]
     },
     "execution_count": 4,
     "metadata": {},
     "output_type": "execute_result"
    }
   ],
   "source": [
    "x = Symbol('x')\n",
    "f = x / sin(x)\n",
    "f = diff(f, x)\n",
    "f = together(f)\n",
    "f"
   ]
  },
  {
   "cell_type": "code",
   "execution_count": null,
   "metadata": {
    "id": "uIbbwNtLPKrV",
    "outputId": "7787fbab-0c82-4e7a-bd2b-1a217e148475"
   },
   "outputs": [
    {
     "data": {
      "image/png": "[encoded data removed]",
      "text/latex": [
       "$\\displaystyle - \\frac{1}{2 \\left(x + 1\\right)^{\\frac{3}{2}}}$"
      ],
      "text/plain": [
       "    -1      \n",
       "────────────\n",
       "         3/2\n",
       "2⋅(x + 1)   "
      ]
     },
     "execution_count": 58,
     "metadata": {
      "tags": []
     },
     "output_type": "execute_result"
    }
   ],
   "source": [
    "x = Symbol('x')\n",
    "f = 1 / sqrt(x + 1)\n",
    "diff(f, x)"
   ]
  },
  {
   "cell_type": "code",
   "execution_count": 6,
   "metadata": {
    "id": "o46M3rciPKrX",
    "outputId": "109a99d1-1a05-4c4b-9434-6a052c2ae7bf"
   },
   "outputs": [
    {
     "data": {
      "image/png": "[encoded data removed]",
      "text/latex": [
       "$\\displaystyle 3 x^{2}$"
      ],
      "text/plain": [
       "   2\n",
       "3⋅x "
      ]
     },
     "execution_count": 6,
     "metadata": {},
     "output_type": "execute_result"
    }
   ],
   "source": [
    "x = Symbol('x')\n",
    "f = x**3\n",
    "diff(f, x)\n",
    "# diff(f, x, 2)\n",
    "# diff(f, x, 3)"
   ]
  },
  {
   "cell_type": "markdown",
   "metadata": {
    "id": "sXtxPbUXPKrc"
   },
   "source": [
    "### Приближенное вычисление с помощью производных"
   ]
  },
  {
   "cell_type": "markdown",
   "metadata": {
    "id": "Z5MfbCj9PKrd"
   },
   "source": [
    "Мы с Вами дали определение производной явной функции\n",
    "\n",
    "### $$f'(x)=\\lim_{\\Delta x\\to 0} \\frac{f(x+\\Delta x)-f(x)}{\\Delta x}$$\n",
    "\n",
    "Если из равенства убрать предел, то значение левой и правой части уже не будут равны. Но при достаточно малом $ \\Delta x$  будут близки. \n",
    "\n",
    "### $$f'(x)\\approx \\frac{f(x+\\Delta x)-f(x)}{\\Delta x}$$\n",
    "\n",
    "Если выразить $f(x+\\Delta x)$, то получим следующее выражение:\n",
    "\n",
    "### $$f(x+\\Delta x) \\approx f(x)+f'(x) \\cdot \\Delta x$$"
   ]
  },
  {
   "cell_type": "markdown",
   "metadata": {
    "id": "iY58h2ntPKrf"
   },
   "source": [
    "Давайте воспользуется этим выражением для приближенного вычисления $\\sqrt 3 \\approx 1.7320508075688772$"
   ]
  },
  {
   "cell_type": "markdown",
   "metadata": {
    "id": "HcGYufoQPKrg"
   },
   "source": [
    "### $$\\sqrt 3 =\\sqrt {4-1} \\approx$$\n",
    "### $$\\approx \\sqrt 4 + \\frac{1}{2 \\sqrt 4} \\cdot (-1) = 2 - 0.25 =$$\n",
    "### $$= 1.75$$"
   ]
  },
  {
   "cell_type": "markdown",
   "metadata": {
    "id": "kE2F9CA7PKrh"
   },
   "source": [
    "Как видно, ошибка уже во втором знаке. \n",
    "\n",
    "Чтобы увеличить точность, необходимо уменьшить приращение. для этого достаточно $3=3.00$ и подобрать ближайший хороший корень к $300$\n",
    "\n",
    "### $$\\sqrt 3 = \\sqrt {3.00} =\\sqrt {2.89+0.11} \\approx $$\n",
    "### $$\\approx \\sqrt {2.89} + \\frac{1}{2 \\sqrt {2.89}} \\cdot 0.11 = 1.7 + \\frac{0.11}{2 \\cdot 1.7}\\approx$$\n",
    "### $$\\approx1.73235294117647$$"
   ]
  },
  {
   "cell_type": "markdown",
   "metadata": {
    "id": "aU5YNMH9kVqP"
   },
   "source": [
    "## Практическое задание"
   ]
  },
  {
   "cell_type": "markdown",
   "metadata": {
    "id": "SmdURZ_OkVqQ"
   },
   "source": [
    "__1.__ Найти производную функции:\n",
    "\n",
    "### $$y=\\frac{1}{x}+\\frac{2}{x^2}-\\frac{5}{x^3}+\\sqrt x -\\sqrt[3]x+\\frac{3}{\\sqrt x}$$"
   ]
  },
  {
   "cell_type": "markdown",
   "metadata": {
    "id": "cECfCSANkVqR"
   },
   "source": [
    "__2.__ Найти производную функции:\n",
    "\n",
    "### $$y=x \\cdot \\sqrt {1+x^2}$$"
   ]
  },
  {
   "cell_type": "markdown",
   "metadata": {
    "id": "DFrjdtbHkVqS"
   },
   "source": [
    "__3.__ Найти производную функции:\n",
    "\n",
    "### $$y= \\frac{2x}{1-x^2}$$"
   ]
  },
  {
   "cell_type": "markdown",
   "metadata": {
    "id": "5la-eVLukVqT"
   },
   "source": [
    "__4*.__ Найти производную функции:\n",
    "\n",
    "### $$y=\\sqrt{x+ \\sqrt{x+\\sqrt x}}$$"
   ]
  },
  {
   "cell_type": "markdown",
   "metadata": {
    "id": "kQlell_GkVqU"
   },
   "source": [
    "__5.__ Найти производную функции:\n",
    "\n",
    "### $$y= \\ln(x+\\sqrt{x^2+1})$$"
   ]
  },
  {
   "cell_type": "markdown",
   "metadata": {
    "id": "GEqcRUkxPKrk"
   },
   "source": [
    "__6.__ Найти производную функции:\n",
    "\n",
    "### $$y=x \\cdot \\ln(x+\\sqrt{x^2+1})-\\sqrt{x^2+1}$$"
   ]
  },
  {
   "cell_type": "markdown",
   "metadata": {
    "id": "-dDOmQg4PKrl"
   },
   "source": [
    "__7*.__ Найти производную функции:\n",
    "\n",
    "### $$y=\\arcsin (\\sin x)$$"
   ]
  },
  {
   "cell_type": "markdown",
   "metadata": {
    "id": "ByOBP9mhPKrq"
   },
   "source": [
    "__8*.__ Вычислить приближенное значение: \n",
    "\n",
    "### $$\\sin(1^0)=\\sin\\Bigl(\\frac{\\pi}{180}\\Bigr)$$\n"
   ]
  },
  {
   "cell_type": "markdown",
   "metadata": {
    "id": "OIViV6yuPKrr"
   },
   "source": [
    "__9**.__ Написать на python алгоритм, по вычислению значений $\\sin(x)$ для $х \\in[0, 30^0]$\n",
    "\n",
    "Для проверки подойдут данные из таблицы Брадиса"
   ]
  },
  {
   "cell_type": "markdown",
   "metadata": {
    "id": "Iv-T_NZAkVqZ"
   },
   "source": [
    "## Дополнительные материалы"
   ]
  },
  {
   "cell_type": "markdown",
   "metadata": {
    "id": "9o_SiUNxkVqa"
   },
   "source": [
    "1. [SymPy](https://www.sympy.org/en/index.html)"
   ]
  },
  {
   "cell_type": "markdown",
   "metadata": {
    "id": "ttm-Y_TnPX_n"
   },
   "source": [
    "### Где почитать дополнительно?\n",
    "\n",
    "Зорич I том:\n",
    "\n",
    "- Глава IV;\n",
    "- Глава V (параграф 1-4);"
   ]
  }
 ],
 "metadata": {
  "colab": {
   "collapsed_sections": [],
   "name": "Lesson_5.ipynb",
   "provenance": []
  },
  "kernelspec": {
   "display_name": "Python 3 (ipykernel)",
   "language": "python",
   "name": "python3"
  },
  "language_info": {
   "codemirror_mode": {
    "name": "ipython",
    "version": 3
   },
   "file_extension": ".py",
   "mimetype": "text/x-python",
   "name": "python",
   "nbconvert_exporter": "python",
   "pygments_lexer": "ipython3",
   "version": "3.8.13"
  }
 },
 "nbformat": 4,
 "nbformat_minor": 1
}
