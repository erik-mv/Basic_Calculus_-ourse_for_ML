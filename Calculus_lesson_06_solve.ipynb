{
 "cells": [
  {
   "cell_type": "markdown",
   "metadata": {
    "colab_type": "text",
    "id": "zz7SDkPIkVlM"
   },
   "source": [
    "# Урок 6"
   ]
  },
  {
   "cell_type": "markdown",
   "metadata": {
    "colab_type": "text",
    "id": "p_3vqG5-kVlP"
   },
   "source": [
    "# Разбор домашнего задания"
   ]
  },
  {
   "cell_type": "markdown",
   "metadata": {
    "colab_type": "text",
    "id": "aU5YNMH9kVqP"
   },
   "source": [
    "## Практическое задание"
   ]
  },
  {
   "cell_type": "markdown",
   "metadata": {
    "colab_type": "text",
    "id": "SmdURZ_OkVqQ"
   },
   "source": [
    "__1.__ Найти производную $y'$ функции:\n",
    "\n",
    "### $$\\mbox{arctg}\\Bigr(\\frac{y}{x}\\Bigl)=\\ln \\sqrt{x^2+y^2}$$\n",
    "\n",
    "Решение\n",
    "\n",
    "### $$\\frac{1}{1+\\Bigr(\\frac{y}{x}\\Bigl)^2}\\cdot \\frac{y'\\cdot x-y\\cdot 1}{x^2} =\\frac{1}{2}\\cdot \\frac{1}{x^2+y^2} \\cdot (2x+2y\\cdot y')$$\n",
    "\n",
    "### $$\\frac{y'\\cdot x-y\\cdot 1}{x^2+y^2}=\\frac{x+y\\cdot y'}{x^2+y^2}$$\n",
    "\n",
    "### $$x\\cdot y'-y=x+y\\cdot y'$$\n",
    "\n",
    "### $$(x-y)\\cdot y'=x+y$$\n",
    "\n",
    "### $$y'=\\frac{x+y}{x-y}$$"
   ]
  },
  {
   "cell_type": "markdown",
   "metadata": {
    "colab_type": "text",
    "id": "cECfCSANkVqR"
   },
   "source": [
    "__2.__ Найти производную $y'_{x}$ функции:\n",
    "\n",
    "### $$\\begin{cases}\n",
    "   y=\\frac{t^2}{t-1}, \\\\\n",
    "   x=\\frac{t}{t^2-1} \n",
    " \\end{cases}$$\n",
    " \n",
    " Решение:\n",
    " \n",
    " \n",
    " ### $$\\begin{cases}\n",
    "   y'_{t}=\\frac{2t\\cdot (t-1)-t^2\\cdot1}{(t-1)^2}, \\\\\n",
    "   x'_{t}=\\frac{1\\cdot(t^2-1)-t\\cdot2t}{(t^2-1)^2} \n",
    " \\end{cases}\\Rightarrow\n",
    " \\begin{cases}\n",
    "   y'_{t}=\\frac{t^2-2t}{(t-1)^2}, \\\\\n",
    "   x'_{t}=\\frac{-t^2-1}{(t^2-1)^2} \n",
    " \\end{cases}\\Rightarrow\n",
    " y'_{x}=\\frac{y'_{t}}{x'_{t}}=\\frac{t^2-2t}{(t-1)^2}\\cdot \\frac{(t^2-1)^2}{-t^2-1}=-\\frac{(t^2-2t)(t+1)^2}{t^2+1}$$"
   ]
  },
  {
   "cell_type": "markdown",
   "metadata": {
    "colab_type": "text",
    "id": "DFrjdtbHkVqS"
   },
   "source": [
    "__3.__ Найти производную с помощью логарифмирования:\n",
    "\n",
    "### $$y=(x^2+2)^5\\cdot(3x-x^3)^3$$\n",
    "\n",
    "Решение:\n",
    "\n",
    "### $$y'=f(x)\\cdot (\\ln f(x))'$$\n",
    "\n",
    "### $$y'=(x^2+2)^5\\cdot(3x-x^3)^3\\cdot\\Bigr(\\frac{5\\cdot2x}{x^2+2}+\\frac{3\\cdot(3-3x^2)}{3x-x^3}\\Bigl)$$"
   ]
  },
  {
   "cell_type": "markdown",
   "metadata": {
    "colab_type": "text",
    "id": "5la-eVLukVqT"
   },
   "source": [
    "__4.__ Найти производную функции с помощью логарифмирования:\n",
    "\n",
    "### $$y=x^x$$\n",
    "\n",
    "Решение:\n",
    "\n",
    "### $$y'=f(x)\\cdot (\\ln f(x))'$$\n",
    "\n",
    "### $$y'=x^x\\cdot\\Bigr(x\\cdot\\ln x\\Bigl)'=x^x\\cdot\\Bigr(1\\cdot\\ln x+x\\cdot\\frac{1}{x}\\Bigl)=x^x\\cdot\\Bigr(\\ln x+1\\Bigl)$$"
   ]
  },
  {
   "cell_type": "markdown",
   "metadata": {
    "colab_type": "text",
    "id": "kQlell_GkVqU"
   },
   "source": [
    "__5.__ Найти производную функции с помощью логарифмирования:\n",
    "\n",
    "### $$y=\\frac{(2-x^2)^3\\cdot(x-1)^2}{(2x^3-3x)\\cdot e^x}$$\n",
    "\n",
    "Решение:\n",
    "\n",
    "### $$y'=f(x)\\cdot (\\ln f(x))'$$\n",
    "\n",
    "### $$y'=\\frac{(2-x^2)^3\\cdot(x-1)^2}{(2x^3-3x)\\cdot e^x}\\cdot\\Bigr(\\frac{3\\cdot(-2x)}{2-x^2}+\\frac{2}{x-1}-\\frac{6x^2-3}{2x^3-3x}-1\\Bigl)$$"
   ]
  },
  {
   "cell_type": "markdown",
   "metadata": {
    "colab_type": "text",
    "id": "6qO3s8ckTgo5"
   },
   "source": [
    "__6*.__ Вывести табличное значение производной для функции\n",
    "\n",
    "### $$\\mbox{arctg}(x)$$\n",
    "\n",
    "Решение:\n",
    "\n",
    "Пусть $y=\\mbox{arctg}(x)$, тогда\n",
    "\n",
    "### $$y'_{x}=\\frac{1}{x'_{y}}=\\frac{1}{(\\mbox{tg} y)'_{y}}=\\frac{\\cos^2 y}{1}=\\cos^2 y$$\n",
    "\n",
    "### $$\\mbox{tg} y=\\frac{\\sin y}{\\cos y}$$\n",
    "\n",
    "Отсюда \n",
    "\n",
    "### $$\\mbox{tg}^2 y=\\frac{\\sin^2 y}{\\cos^2 y}=\\frac{1-\\cos^2 y}{\\cos^2 y}$$\n",
    "\n",
    "### $$\\mbox{tg}^2 y=\\frac{1-\\cos^2 y}{\\cos^2 y}$$\n",
    "\n",
    "### $$\\mbox{tg}^2 y \\cdot\\cos^2 y=1-\\cos^2 y$$\n",
    "\n",
    "### $$(1+\\mbox{tg}^2 y)\\cdot\\cos^2 y=1$$\n",
    "\n",
    "### $$\\cos^2 y=\\frac{1}{1+\\mbox{tg}^2 y}$$\n",
    "\n",
    "Тогда \n",
    "\n",
    "### $$y'_{x}=\\cos^2 y=\\frac{1}{1+\\mbox{tg}^2 y}=\\frac{1}{1+\\mbox{tg}^2 (\\mbox{arctg}(x))}=\\frac{1}{1+x^2}$$\n"
   ]
  },
  {
   "cell_type": "markdown",
   "metadata": {
    "colab_type": "text",
    "id": "DM05fpAuTgo6"
   },
   "source": [
    "__7.__ Найти длину $𝑥$ и ширину $𝑦$ прямоугольника при заданном периметре $𝑃=144$ cм, при которых данный прямоугольник имеет наибольшую площадь $𝑆$.\n",
    "\n",
    "Решение:\n",
    "\n",
    "Иследуемой функцией в этой задачи является функция площади \n",
    "$$S=x\\cdot y.$$\n",
    "\n",
    "Так же дано условие на пеример, котроый позволит выразить одну переменну через другую\n",
    "$$P=2(x+y)=144 \\Rightarrow x+y=72 \\Rightarrow y=72-x$$\n",
    "\n",
    "Подставим значение $y$ в нашу фукцию и иследуем ее с пмощью производных:\n",
    "\n",
    "$$S=x\\cdot y=x\\cdot(72-x)=72x-x^2$$\n",
    "\n",
    "$$S'=72-2x=0$$\n",
    "\n",
    "Производная существует при любом значении $x$, а вот обращается в $0$ при $x=36$ - критическая точка.\n",
    "\n",
    "$$S'(30)=72-2\\cdot30=12>0$$\n",
    "$$S'(40)=72-2\\cdot40=-8<0$$\n",
    "\n",
    "Т.е. наша найденная точка является точкой максимума. Найдем $y$:\n",
    "\n",
    "$$y=72-x=72-36=36$$\n",
    "\n",
    "Можно сделать выводы, что из всех прямоугольников с одинаковыми периметрами квадрат обладает наибольшей площадью!\n",
    "\n",
    "Ответ $x=y=36$ см"
   ]
  },
  {
   "cell_type": "markdown",
   "metadata": {
    "colab_type": "text",
    "id": "SiSvpXChTgo7"
   },
   "source": [
    "__8*.__ Завод $A$ отстоит от железной дороги, идущей с юга на север и проходящей через $B$, считая по кратчайшему расстоянию на $a$ км. Под каким углом $\\alpha$ к железной дороге следует ппостроить подъезной  путь от завода, чтобы транспортировка грузов из $A$ в $B$ была наиболее экономичной, если стоимость провоза тонны груза на расстоянии $1$ км составляет: по подъезному пути $p$ рублей, по железной дороге $q$ рублей $(p>q)$ и город $B$ расположен на $b$ км севернее завода $A$.\n",
    "\n",
    "Решение:\n",
    "\n",
    "__Рассмотри первый случай, когда подъезной путь встречается с железкой дорого до пункта $B$.__"
   ]
  },
  {
   "cell_type": "markdown",
   "metadata": {
    "colab_type": "text",
    "id": "eusiQOwUTgo8"
   },
   "source": [
    "<img src=\"https://i.ibb.co/pPjz49b/7-3.png\" width = 400/>"
   ]
  },
  {
   "cell_type": "markdown",
   "metadata": {
    "colab_type": "text",
    "id": "VCrKP8NrTgo9"
   },
   "source": [
    "Треугольник $ACD$ - прямоугольный, тогда:\n",
    "    \n",
    "### $$\\sin\\alpha=\\frac{a}{AC} \\Rightarrow AC=\\frac{a}{\\sin\\alpha}$$\n",
    "\n",
    "### $$\\mbox{ctg}\\alpha=\\frac{CD}{a} \\Rightarrow CD=a\\cdot \\mbox{ctg}\\alpha$$\n",
    "\n",
    "Составим функцию строимости перевозки:\n",
    "\n",
    "### $$S=AC\\cdot p  +BC\\cdot q$$\n",
    "\n",
    "### $$S=\\frac{a}{\\sin\\alpha}\\cdot p  +(b-a\\cdot \\mbox{ctg}\\alpha)\\cdot q$$\n",
    "\n",
    "Исследуем функцию:\n",
    "\n",
    "### $$S'=-\\frac{a\\cdot p\\cdot \\cos\\alpha}{\\sin^2\\alpha}+\\frac{a\\cdot q}{\\sin^2\\alpha}=\\frac{a\\cdot (-p\\cdot \\cos\\alpha+q)}{\\sin^2\\alpha}=0$$\n",
    "\n",
    "Точка в которой $\\sin x=0$ нас не интересует, т.к. $\\sin x$ в знаменате находится в четной степени. Поэтому остается одна критическая точка, при которой $cos\\alpha=\\frac{q}{p}$.\n",
    "\n",
    "По условию задачи $p>q$, поэтому такой случай возможен. Давайте проверим знаки в окресности. $cos\\alpha=\\frac{q}{p}<1$ следовательно слева от него можно взять $1$, т.к $cos\\alpha$ на участке от $0$ до $\\frac{\\pi}{2}$ убывает.\n",
    "\n",
    "Получается $S'=\\frac{a\\cdot (-p+q)}{\\sin^2\\alpha}<0$. Следовательно справа от $cos\\alpha=\\frac{q}{p}$ будет $S'>0$. Т.е. найденая точка является точкой минимума.\n",
    "\n",
    "### $$\\alpha=\\arccos{\\frac{q}{p}}$$\n",
    "\n",
    "Ответ будет верным до тех пор. пока $\\alpha$ меньше  $\\mbox{arctg}\\,\\,\\frac{a}{b}$. Т.е. если угол будет больше, то верным решением будет:\n",
    "\n",
    "### $$\\alpha=\\mbox{arctg}\\,\\,\\frac{a}{b}$$\n",
    "\n",
    "__Рассмотри второй случай, когда подъезной путь встречается с железкой дорого после пункта $B$.__\n",
    "\n"
   ]
  },
  {
   "cell_type": "markdown",
   "metadata": {
    "colab_type": "text",
    "id": "GnTOYaubTgo-"
   },
   "source": [
    "<img src=\"https://i.ibb.co/st3TWnX/7-4.png\" width = 500/>"
   ]
  },
  {
   "cell_type": "markdown",
   "metadata": {
    "colab_type": "text",
    "id": "nLICGtuiTgo_"
   },
   "source": [
    "Тогда:\n",
    "\n",
    "### $$S=AC\\cdot p  +BC\\cdot q$$\n",
    "\n",
    "### $$S=\\frac{a}{\\sin\\alpha}\\cdot p  +(a\\cdot \\mbox{ctg}\\alpha-b)\\cdot q$$\n",
    "\n",
    "Исследуем функцию:\n",
    "\n",
    "### $$S'=-\\frac{a\\cdot p\\cdot \\cos\\alpha}{\\sin^2\\alpha}-\\frac{a\\cdot q}{\\sin^2\\alpha}=\\frac{a\\cdot (-p\\cdot \\cos\\alpha-q)}{\\sin^2\\alpha}=0$$\n",
    "\n",
    "Мы так же можем найти критическу точку при которой $cos\\alpha=-\\frac{q}{p}$. Правда такой случай не возможен. Т.к. $cos\\alpha$ принимает отрицательные значения только при тупом угле $\\alpha$, чего по рисунку быть не может.\n",
    " \n",
    "Ответ: $\\alpha=\\arccos{\\frac{q}{p}}$"
   ]
  },
  {
   "cell_type": "markdown",
   "metadata": {
    "colab_type": "text",
    "id": "Iv-T_NZAkVqZ"
   },
   "source": [
    "## Дополнительные материалы"
   ]
  },
  {
   "cell_type": "markdown",
   "metadata": {
    "colab_type": "text",
    "id": "9o_SiUNxkVqa"
   },
   "source": [
    "1. [SymPy](https://www.sympy.org/en/index.html)\n",
    "\n",
    "2. [Статья Акима](http://www.leg.ufpr.br/lib/exe/fetch.php/wiki:internas:biblioteca:akima.pdf)"
   ]
  }
 ],
 "metadata": {
  "colab": {
   "collapsed_sections": [],
   "name": "Lesson_6_solve.ipynb",
   "provenance": []
  },
  "kernelspec": {
   "display_name": "Python 3 (ipykernel)",
   "language": "python",
   "name": "python3"
  },
  "language_info": {
   "codemirror_mode": {
    "name": "ipython",
    "version": 3
   },
   "file_extension": ".py",
   "mimetype": "text/x-python",
   "name": "python",
   "nbconvert_exporter": "python",
   "pygments_lexer": "ipython3",
   "version": "3.8.13"
  }
 },
 "nbformat": 4,
 "nbformat_minor": 1
}
