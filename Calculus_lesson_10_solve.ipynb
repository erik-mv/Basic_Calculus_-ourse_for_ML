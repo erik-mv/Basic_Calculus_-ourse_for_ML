{
 "cells": [
  {
   "cell_type": "markdown",
   "metadata": {
    "id": "zz7SDkPIkVlM"
   },
   "source": [
    "# Урок 10"
   ]
  },
  {
   "cell_type": "markdown",
   "metadata": {
    "id": "p_3vqG5-kVlP"
   },
   "source": [
    "# Разбор домашнего задания"
   ]
  },
  {
   "cell_type": "markdown",
   "metadata": {
    "id": "SmdURZ_OkVqQ"
   },
   "source": [
    "__1.__ Исследовать сходимость ряда. \n",
    "\n",
    "\n",
    "### $$\\frac{1}{2\\sqrt2}+\\frac{1}{3\\sqrt3}+\\,...\\,+\\frac{1}{(n+1)\\sqrt{n+1}}+\\,...\\,=\\sum\\limits_{n=1}^{+\\infty}\\frac{1}{(n+1)\\sqrt{n+1}}$$\n",
    "\n",
    "(*) Двумя различными признаками.\n",
    "\n",
    "Решение:\n",
    "\n",
    "Через второй признак сравнения:\n",
    "\n",
    "### $$\\frac{1}{2\\sqrt2}+\\frac{1}{3\\sqrt3}+\\,...\\,+\\frac{1}{(n+1)\\sqrt{n+1}}+\\,...\\,\\,\\,\\,\\,\\,\\sim\\,\\,\\,\\,\\,\\,O\\Bigr(\\frac{1}{n^\\frac{3}{2}}\\Bigl)$$\n",
    "т.к. степень равна $\\frac{3}{2}>1$, то ряд сходится.\n",
    "\n",
    "Через интегральный признак Коши:\n",
    "\n",
    "### $$\\int\\limits_{1}^{+\\infty}\\frac{dx}{(x+1)\\sqrt{x+1}}$$"
   ]
  },
  {
   "cell_type": "code",
   "execution_count": 1,
   "metadata": {
    "id": "uZi3IQMn3LCa",
    "outputId": "a7764a9e-9e05-4ddd-a9c3-cade00fe482e"
   },
   "outputs": [
    {
     "data": {
      "image/png": "[encoded data removed]",
      "text/latex": [
       "$\\displaystyle \\frac{1}{\\left(x + 1\\right)^{\\frac{3}{2}}}$"
      ],
      "text/plain": [
       "    1     \n",
       "──────────\n",
       "       3/2\n",
       "(x + 1)   "
      ]
     },
     "execution_count": 1,
     "metadata": {},
     "output_type": "execute_result"
    }
   ],
   "source": [
    "from sympy import *\n",
    "init_printing()\n",
    "x = Symbol('x')\n",
    "f = 1 / (x + 1) / sqrt(x + 1)\n",
    "f"
   ]
  },
  {
   "cell_type": "code",
   "execution_count": 2,
   "metadata": {
    "id": "AX4LCYPs3LCk",
    "outputId": "a0327e50-946f-4d28-8d24-031a8dc657a8"
   },
   "outputs": [
    {
     "data": {
      "image/png": "[encoded data removed]",
      "text/latex": [
       "$\\displaystyle \\sqrt{2}$"
      ],
      "text/plain": [
       "√2"
      ]
     },
     "execution_count": 2,
     "metadata": {},
     "output_type": "execute_result"
    }
   ],
   "source": [
    "integrate(f,(x, 1, +oo)) #аналитическое решение"
   ]
  },
  {
   "cell_type": "markdown",
   "metadata": {
    "id": "cECfCSANkVqR"
   },
   "source": [
    "__2.__ Исследовать сходимость ряда\n",
    "\n",
    "### $$\\frac{1000}{1!}+\\frac{1000^2}{2!}+\\,...\\,+\\frac{1000^n}{n!}+\\,...\\,=\\sum\\limits_{n=1}^{+\\infty}\\frac{1000^n}{n!}$$\n",
    "\n",
    "Решение:\n",
    "\n",
    "Через признак д’Аламбера. Найдем предел:\n",
    "\n",
    "### $$\\lim_{n\\to +\\infty}\\frac{a_{n+1}}{a_{n}}=\\lim_{n\\to +\\infty}\\frac{1000^{n+1}}{(n+1)!}:\\frac{1000^n}{n!}=$$\n",
    "\n",
    "### $$=\\lim_{n\\to +\\infty}\\frac{1000}{n+1}=0$$\n",
    "\n",
    "т.к. предел равен $0<1$, то ряд сходится. "
   ]
  },
  {
   "cell_type": "markdown",
   "metadata": {
    "id": "DFrjdtbHkVqS"
   },
   "source": [
    "__3*.__ Исследовать сходимость ряда\n",
    "\n",
    "### $$\\frac{2\\cdot1!}{1}+\\frac{2^2\\cdot2!}{2^2}+\\,...\\,+\\frac{2^n\\cdot n!}{n^n}+\\,...\\,=\\sum\\limits_{n=1}^{+\\infty}\\frac{2^n\\cdot n!}{n^n}$$\n",
    "\n",
    "Решение:\n",
    "\n",
    "Через признак д’Аламбера. Найдем предел:\n",
    "\n",
    "### $$\\lim_{n\\to +\\infty}\\frac{a_{n+1}}{a_{n}}=\\lim_{n\\to +\\infty}\\frac{2^{n+1}\\cdot (n+1)!}{(n+1)^{n+1}}:\\frac{2^n\\cdot n!}{n^n}=$$\n",
    "\n",
    "### $$=\\lim_{n\\to +\\infty}\\frac{2\\cdot n^n}{(n+1)^n}=\\lim_{n\\to +\\infty}\\frac{2}{(1+\\frac{1}{n})^n}=\\frac{2}{e}$$\n",
    "\n",
    "т.к. предел равен $\\frac{2}{e}<1$, то ряд сходится. "
   ]
  },
  {
   "cell_type": "markdown",
   "metadata": {
    "id": "nmoHB2G03LCs"
   },
   "source": [
    "__4*.__ Исследовать сходимость ряда\n",
    "\n",
    "### $$\\frac{3\\cdot1!}{1}+\\frac{3^2\\cdot2!}{2^2}+\\,...\\,+\\frac{3^n\\cdot n!}{n^n}+\\,...\\,=\\sum\\limits_{n=1}^{+\\infty}\\frac{3^n\\cdot n!}{n^n}$$\n",
    "\n",
    "Решение:\n",
    "\n",
    "Через признак д’Аламбера. Найдем предел:\n",
    "\n",
    "### $$\\lim_{n\\to +\\infty}\\frac{a_{n+1}}{a_{n}}=\\lim_{n\\to +\\infty}\\frac{3^{n+1}\\cdot (n+1)!}{(n+1)^{n+1}}:\\frac{3^n\\cdot n!}{n^n}=$$\n",
    "\n",
    "### $$=\\lim_{n\\to +\\infty}\\frac{3\\cdot n^n}{(n+1)^n}=\\lim_{n\\to +\\infty}\\frac{3}{(1+\\frac{1}{n})^n}=\\frac{3}{e}$$\n",
    "\n",
    "т.к. предел равен $\\frac{3}{e}>1$, то ряд расходится. "
   ]
  },
  {
   "cell_type": "markdown",
   "metadata": {
    "id": "r4mtWQ4d3LCt"
   },
   "source": [
    "__5.__ Исследовать сходимость ряда\n",
    "\n",
    "### $$-\\frac{\\sqrt1}{2}+\\frac{\\sqrt2}{3}-\\,...\\,+\\frac{(-1)^n\\sqrt n}{n+1}+\\,...\\,=\\sum\\limits_{n=1}^{+\\infty}\\frac{(-1)^n\\sqrt n}{n+1}$$\n",
    "\n",
    "Решение:\n",
    "\n",
    "### $$\\lim_{n\\to +\\infty}a_{n}=0$$\n",
    "\n",
    "Этого достаточно чтобы ряд сходился по признаку Лейбница.\n",
    "\n",
    "Рассмотрим ряд по модулю:\n",
    "\n",
    "### $$\\sum\\limits_{n=1}^{+\\infty}\\frac{\\sqrt n}{n+1}\\,\\,\\,\\,\\,\\,\\sim\\,\\,\\,\\,\\,\\,O\\Bigr(\\frac{1}{n^\\frac{1}{2}}\\Bigl)$$\n",
    "\n",
    "этот знакопостоянный ряд расходится по второму признаку сходимости, следовательно исходный сходится условно."
   ]
  },
  {
   "cell_type": "markdown",
   "metadata": {
    "id": "8L2kzdwm3LCu"
   },
   "source": [
    "__6*.__ Разложить функцию $y=e^x$ в ряд Маклорена, а так же в ряд Фурье на отрезке $[-\\pi, \\pi]$. Построить график функции и разложений.\n",
    "\n",
    "Решение:\n",
    "\n",
    "Разложим функцию в ряд Маклорена:\n",
    "\n",
    "\n",
    "### $$f(x)=\\sum\\limits_{n=0}^{+\\infty}\\frac{f^{(n)}(0)}{n!}x^n$$\n",
    "\n",
    "\n",
    "### $$e^x=\\frac{e^0}{0!}x^0+\\frac{e^0}{1!}x^1+\\frac{e^0}{2!}x^2+\\frac{e^0}{3!}x^3+\\,...\\,=$$\n",
    "\n",
    "### $$=1+x+\\frac{x^2}{2!}+\\frac{x^3}{3!}+\\,...\\,=\\sum\\limits_{n=0}^{+\\infty}\\frac{x^n}{n!}$$\n",
    "\n",
    "Теперь разложим в ряд Фурье на отрезке $[-\\pi, \\pi]$:\n",
    "\n",
    "### $$f(x)=a_{0}+\\sum\\limits_{n=1}^{+\\infty}(a_n\\cos nx+b_n\\sin nx)$$\n",
    "\n",
    "Найдем $a_0$:\n",
    "\n",
    "### $$a_0=\\frac{1}{2\\pi}\\int\\limits_{-\\pi}^\\pi f(x)\\,dx=\\frac{1}{2\\pi}\\int\\limits_{-\\pi}^\\pi e^x\\,dx=$$\n",
    "\n",
    "### $$=\\frac{1}{2\\pi}\\cdot e^x\\Bigr|_{-\\pi}^\\pi=\\frac{1}{2\\pi}\\cdot\\Bigr(e^{\\pi}-e^{-\\pi}\\Bigl)=\\frac{e^{\\pi}-e^{-\\pi}}{2\\pi}$$\n",
    "\n",
    "\n",
    "Найдем $a_n$:\n",
    "\n",
    "### $$a_n=\\frac{1}{\\pi}\\int\\limits_{-\\pi}^\\pi f(x)\\cos nx\\,dx=\\frac{1}{\\pi}\\int\\limits_{-\\pi}^\\pi e^x\\cos nx\\,dx=$$\n",
    "\n",
    "Данный интеграл будем брать по частям:\n",
    "\n",
    "### $$U=e^x\\,\\,\\,\\,\\,\\Rightarrow\\,\\,\\,\\,\\, dU=e^x\\,dx$$ \n",
    "### $$dV=\\cos nx\\,dx\\,\\,\\,\\,\\,\\Rightarrow\\,\\,\\,\\,\\, V=\\frac{1}{n}\\sin nx$$ \n",
    "\n",
    "### $$=\\Bigr(\\frac{1}{\\pi n}e^x\\sin nx\\Bigl)\\Bigr|_{-\\pi}^\\pi-\\frac{1}{\\pi n}\\int\\limits_{-\\pi}^\\pi e^x\\sin nx\\,dx=$$\n",
    "\n",
    "Скобка равно нулю, т.к. $\\sin \\pi n=\\sin (-\\pi n)=0$. Интеграл возьмем еще раз по частям:\n",
    "\n",
    "### $$U=e^x\\,\\,\\,\\,\\,\\Rightarrow\\,\\,\\,\\,\\, dU=e^x\\,dx$$ \n",
    "### $$dV=\\sin nx\\,dx\\,\\,\\,\\,\\,\\Rightarrow\\,\\,\\,\\,\\, V=-\\frac{1}{n}\\cos nx$$ \n",
    "\n",
    "### $$=\\Bigr(\\frac{1}{\\pi n^2}e^x\\cos nx\\Bigl)\\Bigr|_{-\\pi}^\\pi-\\frac{1}{\\pi n^2}\\int\\limits_{-\\pi}^\\pi e^x\\cos nx\\,dx$$\n",
    "\n",
    "Тогда:\n",
    "\n",
    "\n",
    "### $$\\Bigr(\\frac{1}{\\pi}+\\frac{1}{\\pi n^2}\\Bigl)\\int\\limits_{-\\pi}^\\pi e^x\\cos nx\\,dx=\\frac{1}{\\pi n^2}e^{\\pi}\\cos\\pi n-\\frac{1}{\\pi n^2}e^{-\\pi}\\cos\\pi n$$\n",
    "\n",
    "### $$\\frac{1}{\\pi}\\int\\limits_{-\\pi}^\\pi e^x\\cos nx\\,dx=\\frac{(e^{\\pi}-e^{-\\pi})(-1)^n}{\\pi(n^2+1)}$$\n",
    "\n",
    "\n",
    "Найдем $b_n$:\n",
    "\n",
    "### $$b_n=\\frac{1}{\\pi}\\int\\limits_{-\\pi}^\\pi f(x)\\sin nx\\,dx=\\frac{1}{\\pi}\\int\\limits_{-\\pi}^\\pi e^x\\sin nx\\,dx=$$\n",
    "\n",
    "Данный интеграл будем брать по частям:\n",
    "\n",
    "### $$U=e^x\\,\\,\\,\\,\\,\\Rightarrow\\,\\,\\,\\,\\, dU=e^x\\,dx$$ \n",
    "### $$dV=\\sin nx\\,dx\\,\\,\\,\\,\\,\\Rightarrow\\,\\,\\,\\,\\, V=-\\frac{1}{n}\\cos nx$$ \n",
    "\n",
    "### $$=\\Bigr(-\\frac{1}{\\pi n}e^x\\cos nx\\Bigl)\\Bigr|_{-\\pi}^\\pi+\\frac{1}{\\pi n}\\int\\limits_{-\\pi}^\\pi e^x\\cos nx\\,dx=$$\n",
    "\n",
    "Скобка равно нулю, т.к. $\\sin \\pi n=\\sin (-\\pi n)=0$. Интеграл возьмем еще раз по частям:\n",
    "\n",
    "### $$U=e^x\\,\\,\\,\\,\\,\\Rightarrow\\,\\,\\,\\,\\, dU=e^x\\,dx$$ \n",
    "### $$dV=\\cos nx\\,dx\\,\\,\\,\\,\\,\\Rightarrow\\,\\,\\,\\,\\, V=\\frac{1}{n}\\sin nx$$ \n",
    "\n",
    "### $$=\\Bigr(-\\frac{1}{\\pi n}e^x\\cos nx\\Bigl)\\Bigr|_{-\\pi}^\\pi+\\Bigr(\\frac{1}{\\pi n^2}e^x\\sin nx\\Bigl)\\Bigr|_{-\\pi}^\\pi-\\frac{1}{\\pi n^2}\\int\\limits_{-\\pi}^\\pi e^x\\sin nx\\,dx$$\n",
    "\n",
    "Тогда:\n",
    "\n",
    "\n",
    "### $$\\Bigr(\\frac{1}{\\pi}+\\frac{1}{\\pi n^2}\\Bigl)\\int\\limits_{-\\pi}^\\pi e^x\\sin nx\\,dx=-\\frac{1}{\\pi n}e^{\\pi}\\cos\\pi n+\\frac{1}{\\pi n}e^{-\\pi}\\cos\\pi n$$\n",
    "\n",
    "### $$\\frac{1}{\\pi}\\int\\limits_{-\\pi}^\\pi e^x\\sin nx\\,dx=\\frac{n(e^{-\\pi}-e^{\\pi})(-1)^n}{\\pi(n^2+1)}$$"
   ]
  },
  {
   "cell_type": "markdown",
   "metadata": {
    "id": "Iv-T_NZAkVqZ"
   },
   "source": [
    "## Дополнительные материалы"
   ]
  },
  {
   "cell_type": "markdown",
   "metadata": {
    "id": "9o_SiUNxkVqa"
   },
   "source": [
    "1. [пример с habr](https://habr.com/ru/post/338704/)"
   ]
  }
 ],
 "metadata": {
  "colab": {
   "collapsed_sections": [],
   "name": "Lesson_10_solve.ipynb",
   "provenance": []
  },
  "kernelspec": {
   "display_name": "Python 3 (ipykernel)",
   "language": "python",
   "name": "python3"
  },
  "language_info": {
   "codemirror_mode": {
    "name": "ipython",
    "version": 3
   },
   "file_extension": ".py",
   "mimetype": "text/x-python",
   "name": "python",
   "nbconvert_exporter": "python",
   "pygments_lexer": "ipython3",
   "version": "3.8.13"
  }
 },
 "nbformat": 4,
 "nbformat_minor": 1
}
