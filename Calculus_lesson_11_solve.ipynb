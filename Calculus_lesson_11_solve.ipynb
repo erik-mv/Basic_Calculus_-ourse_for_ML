{
 "cells": [
  {
   "cell_type": "markdown",
   "metadata": {
    "id": "RcokHGNfSYSF"
   },
   "source": [
    "# Урок 11"
   ]
  },
  {
   "cell_type": "markdown",
   "metadata": {
    "id": "xeRm8bn5SYSK"
   },
   "source": [
    "# Разбор домашнего задания"
   ]
  },
  {
   "cell_type": "markdown",
   "metadata": {
    "id": "Ln3UbGn5SQP5"
   },
   "source": [
    "__1.__ Решите задачу Коши \n",
    "\n",
    "\n",
    "### $$y'=3\\sqrt[3]{y^2},\\,\\,\\,\\,\\,\\,\\, y(2)=0$$"
   ]
  },
  {
   "cell_type": "markdown",
   "metadata": {
    "id": "Hlw9sX4YSYSM"
   },
   "source": [
    "Решение:\n",
    "\n",
    "Это ДУ с разделяющимися переменными\n",
    "\n",
    "### $$\\frac{\\mbox{d}y}{\\mbox{d}x}=3\\sqrt[3]{y^2}$$\n",
    "\n",
    "### $$\\frac{\\mbox{d}y}{3\\sqrt[3]{y^2}}=\\mbox{d}x$$\n",
    "\n",
    "### $$\\int\\frac{\\mbox{d}y}{3\\sqrt[3]{y^2}}=\\int\\mbox{d}x$$\n",
    "\n",
    "### $$\\sqrt[3]{y}=x+C$$\n",
    "\n",
    "### $$y=(x+C)^3$$\n",
    "\n",
    "Воспользуемся условием $y(2)=0$\n",
    "\n",
    "### $$0=(2+C)^3 \\,\\,\\,\\,\\,\\Rightarrow\\,\\,\\,\\,\\, C=-2$$\n",
    "\n",
    "Тогда решением будет функция:\n",
    "\n",
    "### $$y=(x-2)^3$$"
   ]
  },
  {
   "cell_type": "markdown",
   "metadata": {
    "id": "DqQh6VEWSR2q"
   },
   "source": [
    "__2.__ Решите ДУ\n",
    "\n",
    "### $$y=x(y'-x\\cos{x})$$\n",
    "\n",
    "Решение:\n",
    "\n",
    "### $$y=xy'-x^2\\cos x$$\n",
    "\n",
    "### $$xy'-y = x^2\\cos x$$\n",
    "\n",
    "### $$y'-\\frac{y}{x} = x\\cos x,\\,\\,\\,\\,\\,\\,x\\neq0$$\n",
    "\n",
    "Это линейное уравнение! Решим методом вариаций\n",
    "\n",
    "### $$y'-\\frac{y}{x}=0$$\n",
    "\n",
    "### $$\\frac{\\mbox{d}y}{\\mbox{d}x}-\\frac{y}{x}=0$$\n",
    "\n",
    "### $$\\frac{\\mbox{d}y}{y}-\\frac{\\mbox{d}x}{x}=0$$\n",
    "\n",
    "### $$\\int\\frac{\\mbox{d}y}{y}-\\int\\frac{\\mbox{d}x}{x}=0$$\n",
    "\n",
    "\n",
    "### $$\\ln|y|-\\ln|x|=\\ln C$$\n",
    "\n",
    "### $$\\frac{y}{x}=C$$\n",
    "\n",
    "### $$y = Cx$$\n",
    "\n",
    "Это общее решение, теперь найдм частное. Подставим общее решение в наше уравнения.\n",
    "\n",
    "### $$y'-\\frac{y}{x} = x\\cos x$$\n",
    "\n",
    "\n",
    "### $$C'(x)\\cdot x + C(x) - С(x) = x\\cos x$$\n",
    "\n",
    "### $$C'(x)\\cdot x = x\\cos x$$\n",
    "\n",
    "\n",
    "### $$C'(x) = \\cos x$$\n",
    "\n",
    "### $$\\frac{\\mbox{d}C}{\\mbox{d}x} = \\cos x$$\n",
    "\n",
    "### $$\\mbox{d}C= \\cos x\\,\\mbox{d}x$$\n",
    "\n",
    "### $$\\int\\mbox{d}C=\\int \\cos x\\,\\mbox{d}x$$\n",
    "\n",
    "### $$C(x) = \\sin x + C_2$$\n",
    "\n",
    "Подставим найденную константу в общее решение и получим ответ:\n",
    "\n",
    "### $$y = x(\\sin x + C_2)$$"
   ]
  },
  {
   "cell_type": "markdown",
   "metadata": {
    "id": "00Jv4JHRSTby"
   },
   "source": [
    "__3.__ Решите ДУ\n",
    "\n",
    "### $$e^{-y}\\mbox{d}x-(2y+xe^{-y})\\mbox{d}y=0$$\n",
    "\n",
    "Решение:\n",
    "\n",
    "Данное ДУ является полным дифференциалом. Для проверке достаточно сравнить смешанные производныве:\n",
    "\n",
    "### $$U'_x=e^{-y}\\,\\,\\,\\,\\,\\Rightarrow\\,\\,\\,\\,\\, U''_{xy} = -e^{-y}$$\n",
    "\n",
    "### $$U'_y=-(2y+xe^{-y})\\,\\,\\,\\,\\,\\Rightarrow\\,\\,\\,\\,\\, U''_{yx} = -e^{-y}$$\n",
    "\n",
    "Так как смешанные производные равны, то перед нами действительно уравнение в полных дифференциалах\n",
    "\n",
    "Возьмем первое условие:\n",
    "\n",
    "### $$U'_x=e^{-y}\\,\\,\\,\\,\\,\\Rightarrow\\,\\,\\,\\,\\, U=\\int e^{-y}\\,dx$$\n",
    "\n",
    "### $$U=xe^{-y} + \\varphi(y)$$\n",
    "\n",
    "Чтобы найти $\\varphi(y)$ воспользуемся вторым условием\n",
    "\n",
    "### $$U'_y=-xe^{-y}+\\varphi'(y)=-(2y+xe^{-y})$$\n",
    "\n",
    "### $$\\varphi'(y) = -2y$$\n",
    "\n",
    "### $$\\varphi(y)=-y^2+C$$\n",
    "\n",
    "Получаем решение \n",
    "\n",
    "### $$xe^{-y} -y^2 = C$$"
   ]
  }
 ],
 "metadata": {
  "colab": {
   "collapsed_sections": [],
   "provenance": []
  },
  "kernelspec": {
   "display_name": "Python 3 (ipykernel)",
   "language": "python",
   "name": "python3"
  },
  "language_info": {
   "codemirror_mode": {
    "name": "ipython",
    "version": 3
   },
   "file_extension": ".py",
   "mimetype": "text/x-python",
   "name": "python",
   "nbconvert_exporter": "python",
   "pygments_lexer": "ipython3",
   "version": "3.8.13"
  }
 },
 "nbformat": 4,
 "nbformat_minor": 1
}
